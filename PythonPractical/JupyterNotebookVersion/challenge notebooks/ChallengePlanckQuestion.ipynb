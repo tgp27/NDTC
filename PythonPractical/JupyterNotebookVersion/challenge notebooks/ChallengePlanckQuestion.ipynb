{
 "cells": [
  {
   "cell_type": "markdown",
   "metadata": {},
   "source": [
    "# Black-body distribution\n",
    "\n",
    "The spectral radiance $B$ of a spherical black body (ideal non-reflective object) at a wavelength $\\lambda$ and temperature $T$ is given by\n",
    "\n",
    "$$\n",
    "B(\\lambda, T) = \\frac{2 hc^2}{\\lambda^5}\\left[\\exp\\left( \\frac{hc}{\\lambda k_B T}\\right) - 1\\right]^{-1}\n",
    "$$\n",
    "\n",
    "where (in SI units) $h = 6.63\\times 10^{-34}$ is Planck's constant, $c = 3.00\\times10^{8}$ is the speed of light and $k_B = 1.38\\times10^{-23}$ is Boltzmann's constant.\n",
    "\n",
    "[Example spectra](https://www.periodni.com/gallery/blackbody_radiation.png\n",
    ") for various temperatures.\n",
    "\n",
    "I have generated some noisy data for $B(\\lambda, T)$ at various temperatures, which can be found as txt files in the challenge_raw folder.\n",
    "\n",
    "## Wien Law\n",
    "The maximum of $B(\\lambda,T)$ occurs at some wavelength $\\lambda_{max}$ that depends on the temperature $T$. The two quantities are related by Wien's law:\n",
    "\n",
    "$$\n",
    "\\lambda_{max} = \\frac{b}{T}\n",
    "$$\n",
    "\n",
    "where $b$ is some constant. Determine $b$.\n",
    "\n",
    "## Stefan-Boltzmann Law\n",
    "\n",
    "The total radiance $R$ across all solid angles is given by\n",
    "\n",
    "$$\n",
    "R(T) = \\pi \\int_0^{\\infty} \\mbox{d}\\lambda ~ B(\\lambda,T)\n",
    "$$\n",
    "\n",
    "The radiance has a simple relationship with temperature (the Stefan-Boltzmann law)\n",
    "\n",
    "$$\n",
    "R = \\sigma T^n\n",
    "$$\n",
    "\n",
    "where $\\sigma$ and $n$ are constants. Determine $n$ and $\\sigma$ by performing a numerical integration of each set of data.\n",
    "\n",
    "## Solar spectrum\n",
    "\n",
    "In the raw data folder (.\\challenge_raw) there is some real spectral data for the Sun (.csv file). Estimate the temperature of the Sun's surface by comparing the solar spectrum to a black-body spectrum.\n"
   ]
  },
  {
   "cell_type": "code",
   "execution_count": null,
   "metadata": {},
   "outputs": [],
   "source": []
  }
 ],
 "metadata": {
  "kernelspec": {
   "display_name": "Python 3",
   "language": "python",
   "name": "python3"
  },
  "language_info": {
   "codemirror_mode": {
    "name": "ipython",
    "version": 3
   },
   "file_extension": ".py",
   "mimetype": "text/x-python",
   "name": "python",
   "nbconvert_exporter": "python",
   "pygments_lexer": "ipython3",
   "version": "3.6.2"
  }
 },
 "nbformat": 4,
 "nbformat_minor": 2
}
