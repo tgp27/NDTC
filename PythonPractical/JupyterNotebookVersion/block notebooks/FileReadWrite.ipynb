{
 "cells": [
  {
   "cell_type": "markdown",
   "metadata": {},
   "source": [
    "# Reading and Writing Files\n",
    "Example text files are in the '.\\rw_examples' sub-folder.\n",
    "\n",
    "* Basic Python\n",
    "    * Reading from file\n",
    "    * Writing to file\n",
    "* Pandas\n",
    "    * Reading using read_csv\n",
    "    * Writing using to_csv\n",
    "\n",
    "## Basic Python\n",
    "Text used is taken from Article 1 of the UN [Universal Declaration of Human Rights](http://www.un.org/en/universal-declaration-human-rights/)\n",
    "### Reading from file\n",
    "There are two ways to do this in basic Python:\n",
    "* open a file, read, then close the file again (separate steps)\n",
    "* use the \"with\" keyword to open, read and close automatically\n",
    "\n",
    "\"With\" is preferred for reading because the file is automatically closed when it's finished being used."
   ]
  },
  {
   "cell_type": "code",
   "execution_count": 28,
   "metadata": {},
   "outputs": [
    {
     "name": "stdout",
     "output_type": "stream",
     "text": [
      "All human beings are born free and equal in dignity and rights.\n",
      "\n",
      "They are endowed with reason and conscience and should act towards one another in a spirit of brotherhood.\n",
      "All human beings are born free and equal in dignity and rights.\n",
      "\n",
      "They are endowed with reason and conscience and should act towards one another in a spirit of brotherhood.\n"
     ]
    }
   ],
   "source": [
    "src = r'.\\rw_examples\\un_dec_art1.txt'\n",
    "\n",
    "# Method 1\n",
    "file = open(src,'r+')\n",
    "fstr1 = file.read()\n",
    "print(fstr1)\n",
    "\n",
    "# Method 2\n",
    "with open(src) as file:\n",
    "    fstr2 = file.read()\n",
    "print(fstr2)"
   ]
  },
  {
   "cell_type": "markdown",
   "metadata": {},
   "source": [
    "#### Selective reading"
   ]
  },
  {
   "cell_type": "code",
   "execution_count": 15,
   "metadata": {},
   "outputs": [
    {
     "name": "stdout",
     "output_type": "stream",
     "text": [
      "First string:\n",
      "All human beings are\n",
      "And the second string:\n",
      " born free and equal in dignity and rights.\n",
      "\n",
      "They are endowed with reason and conscience and should act towards one another in a spirit of brotherhood.\n"
     ]
    }
   ],
   "source": [
    "src = r'.\\rw_examples\\un_dec_art1.txt'\n",
    "\n",
    "with open(src) as file:\n",
    "    # read the first 20 chars\n",
    "    short_str = file.read(20)\n",
    "    # read the rest of the file\n",
    "    long_str  = file.read()\n",
    "print('First string:')\n",
    "print(short_str)\n",
    "print('And the second string:')\n",
    "print(long_str)"
   ]
  },
  {
   "cell_type": "markdown",
   "metadata": {},
   "source": [
    "#### Reading specific lines\n",
    "Just the first line"
   ]
  },
  {
   "cell_type": "code",
   "execution_count": 19,
   "metadata": {},
   "outputs": [
    {
     "name": "stdout",
     "output_type": "stream",
     "text": [
      "All human beings are born free and equal in dignity and rights.\n",
      "\n",
      "['All human beings are born free and equal in dignity and rights.\\n', '\\n', 'They are endowed with reason and conscience and should act towards one another in a spirit of brotherhood.']\n"
     ]
    }
   ],
   "source": [
    "src = r'.\\rw_examples\\un_dec_art1.txt'\n",
    "\n",
    "with open(src) as file:\n",
    "    line1 = file.readline()\n",
    "print(line1)"
   ]
  },
  {
   "cell_type": "markdown",
   "metadata": {},
   "source": [
    "Get all lines as a list of strings - this can be used to obtain specific lines"
   ]
  },
  {
   "cell_type": "code",
   "execution_count": 21,
   "metadata": {},
   "outputs": [
    {
     "name": "stdout",
     "output_type": "stream",
     "text": [
      "['All human beings are born free and equal in dignity and rights.\\n', '\\n', 'They are endowed with reason and conscience and should act towards one another in a spirit of brotherhood.']\n",
      "They are endowed with reason and conscience and should act towards one another in a spirit of brotherhood.\n"
     ]
    }
   ],
   "source": [
    "with open(src) as file:\n",
    "    lines = file.readlines()\n",
    "print(lines)\n",
    "line3 = lines[2]\n",
    "print(line3)"
   ]
  },
  {
   "cell_type": "markdown",
   "metadata": {},
   "source": [
    "### Writing to file\n",
    "Syntax:\n",
    "* \\n indicates a line break (new line)\n",
    "* \\t indicates a tab space"
   ]
  },
  {
   "cell_type": "code",
   "execution_count": 26,
   "metadata": {},
   "outputs": [
    {
     "name": "stdout",
     "output_type": "stream",
     "text": [
      "Here's some text\t I'd like to add\n",
      " to the file\n"
     ]
    }
   ],
   "source": [
    "dst = r'.\\rw_examples\\new.txt'\n",
    "content = \"Here's some text\\t I'd like to add\\n to the file\"\n",
    "print(content)\n",
    "\n",
    "file = open(dst,\"w+\")\n",
    "file.write(content)\n",
    "file.close()\n"
   ]
  },
  {
   "cell_type": "markdown",
   "metadata": {},
   "source": [
    "## Pandas"
   ]
  },
  {
   "cell_type": "markdown",
   "metadata": {},
   "source": [
    "### Reading numerical data using pandas\n",
    "Pandas has a read_csv module which makes it easy to import .csv data. It also works for .txt files."
   ]
  },
  {
   "cell_type": "code",
   "execution_count": 27,
   "metadata": {},
   "outputs": [
    {
     "data": {
      "text/html": [
       "<div>\n",
       "<style>\n",
       "    .dataframe thead tr:only-child th {\n",
       "        text-align: right;\n",
       "    }\n",
       "\n",
       "    .dataframe thead th {\n",
       "        text-align: left;\n",
       "    }\n",
       "\n",
       "    .dataframe tbody tr th {\n",
       "        vertical-align: top;\n",
       "    }\n",
       "</style>\n",
       "<table border=\"1\" class=\"dataframe\">\n",
       "  <thead>\n",
       "    <tr style=\"text-align: right;\">\n",
       "      <th></th>\n",
       "      <th>Wavelength</th>\n",
       "      <th>Absorbance</th>\n",
       "    </tr>\n",
       "  </thead>\n",
       "  <tbody>\n",
       "    <tr>\n",
       "      <th>0</th>\n",
       "      <td>154.910</td>\n",
       "      <td>-0.00</td>\n",
       "    </tr>\n",
       "    <tr>\n",
       "      <th>1</th>\n",
       "      <td>155.289</td>\n",
       "      <td>-0.04</td>\n",
       "    </tr>\n",
       "    <tr>\n",
       "      <th>2</th>\n",
       "      <td>155.669</td>\n",
       "      <td>-0.00</td>\n",
       "    </tr>\n",
       "    <tr>\n",
       "      <th>3</th>\n",
       "      <td>156.048</td>\n",
       "      <td>0.55</td>\n",
       "    </tr>\n",
       "    <tr>\n",
       "      <th>4</th>\n",
       "      <td>156.428</td>\n",
       "      <td>-0.00</td>\n",
       "    </tr>\n",
       "  </tbody>\n",
       "</table>\n",
       "</div>"
      ],
      "text/plain": [
       "   Wavelength  Absorbance\n",
       "0     154.910       -0.00\n",
       "1     155.289       -0.04\n",
       "2     155.669       -0.00\n",
       "3     156.048        0.55\n",
       "4     156.428       -0.00"
      ]
     },
     "execution_count": 27,
     "metadata": {},
     "output_type": "execute_result"
    }
   ],
   "source": [
    "import pandas as pd\n",
    "\n",
    "src = r'.\\rw_examples\\abso_data.txt'\n",
    "df = pd.read_csv(src,sep='\\t',header=None)\n",
    "# add column names\n",
    "df.columns = ['Wavelength','Absorbance']\n",
    "# show first 5 values\n",
    "df.head()"
   ]
  },
  {
   "cell_type": "markdown",
   "metadata": {},
   "source": [
    "### Writing or appending data to file using pandas\n",
    "Writing to a file means either creating a new file, or deleting what is previously there and putting new content.\n",
    "\n",
    "Appending means adding new data to existing data."
   ]
  },
  {
   "cell_type": "code",
   "execution_count": 36,
   "metadata": {},
   "outputs": [],
   "source": [
    "dic = {'col1': [1,2,3], 'col2': [1,4,9]}\n",
    "df = pd.DataFrame(data=dic)\n",
    "\n",
    "dst = r'.\\rw_examples\\new_data.txt'\n",
    "df.to_csv(dst,sep='\\t')\n",
    "\n",
    "# APPEND using 'a' form of open()\n",
    "dic2 = {'col1': [4,5,6], 'col2': [6,25,36]}\n",
    "df2 = pd.DataFrame(data=dic2)\n",
    "\n",
    "with open(dst, 'a') as file:\n",
    "    df2.to_csv(file,sep='\\t',header=False)"
   ]
  },
  {
   "cell_type": "markdown",
   "metadata": {},
   "source": [
    "### References\n",
    "* Read and write section of the [Python manual](https://docs.python.org/3/tutorial/inputoutput.html#reading-and-writing-files)\n",
    "* Pandas manual"
   ]
  },
  {
   "cell_type": "code",
   "execution_count": null,
   "metadata": {},
   "outputs": [],
   "source": []
  }
 ],
 "metadata": {
  "kernelspec": {
   "display_name": "Python 3",
   "language": "python",
   "name": "python3"
  },
  "language_info": {
   "codemirror_mode": {
    "name": "ipython",
    "version": 3
   },
   "file_extension": ".py",
   "mimetype": "text/x-python",
   "name": "python",
   "nbconvert_exporter": "python",
   "pygments_lexer": "ipython3",
   "version": "3.6.2"
  }
 },
 "nbformat": 4,
 "nbformat_minor": 2
}
