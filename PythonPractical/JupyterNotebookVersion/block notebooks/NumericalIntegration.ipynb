{
 "cells": [
  {
   "cell_type": "markdown",
   "metadata": {},
   "source": [
    "# Numerical Integration\n",
    "\n",
    "## Estimating integral of a given function with limits"
   ]
  },
  {
   "cell_type": "markdown",
   "metadata": {},
   "source": [
    "### Integrating data\n",
    "NumPy can integrate a given array of data. For example, let's create a normal distribution with mean 0.0 and standard deviation 2.5."
   ]
  },
  {
   "cell_type": "code",
   "execution_count": 67,
   "metadata": {},
   "outputs": [],
   "source": [
    "from scipy.stats import norm\n",
    "import numpy as np\n",
    "\n",
    "xval = np.linspace(-10,10,100)\n",
    "ymean = 0\n",
    "ysd = 2.5\n",
    "yval = norm.pdf(xval,ymean,ysd)"
   ]
  },
  {
   "cell_type": "markdown",
   "metadata": {},
   "source": [
    "The area under this function should be very close to 1.0, since it's normalised. We estimate the value using the [trapezium rule](https://en.wikipedia.org/wiki/Trapezoidal_rule) (aka trapezoidal rule), implemented by the numpy.trapz function. More info on this Python function [here](https://docs.scipy.org/doc/numpy/reference/generated/numpy.trapz.html)"
   ]
  },
  {
   "cell_type": "code",
   "execution_count": 82,
   "metadata": {},
   "outputs": [
    {
     "name": "stdout",
     "output_type": "stream",
     "text": [
      "0.999936075737\n"
     ]
    }
   ],
   "source": [
    "eval = np.trapz(yval,x=xval)\n",
    "print(eval)"
   ]
  },
  {
   "cell_type": "markdown",
   "metadata": {},
   "source": [
    "The value is very close to 1.0, as expected."
   ]
  },
  {
   "cell_type": "markdown",
   "metadata": {},
   "source": [
    "There is another way to implement the trapezium rule, using the scipy.integrate.cumtrapz function. Unlike the np.trapz function, it gives cumulative values.\n",
    "https://docs.scipy.org/doc/scipy-0.14.0/reference/generated/scipy.integrate.cumtrapz.html#scipy.integrate.cumtrapz"
   ]
  },
  {
   "cell_type": "code",
   "execution_count": 81,
   "metadata": {},
   "outputs": [
    {
     "name": "stdout",
     "output_type": "stream",
     "text": [
      "0.999936075737\n"
     ]
    }
   ],
   "source": [
    "import scipy.integrate as integrate\n",
    "# from scipy.stats import norm\n",
    "# import numpy as np\n",
    "\n",
    "# xval = np.linspace(-10,10,100)\n",
    "# ymean = 0\n",
    "# ysd = 2.5\n",
    "# yval = norm.pdf(xval,ymean,ysd)\n",
    "\n",
    "cum_eval = integrate.cumtrapz(yval,xval)\n",
    "print(cum_eval[-1])"
   ]
  },
  {
   "cell_type": "markdown",
   "metadata": {},
   "source": [
    "The output \"cum_eval\" is an array of values with the cumulative integral values (print out cum_eval to see what I mean). The final value is what we want. You can see that it's identical (to over 10 decimal places) to the np.trapz value; both functions implement exactly the same algorithm, so they produce the same numerical estimate."
   ]
  },
  {
   "cell_type": "markdown",
   "metadata": {},
   "source": [
    "There are other, more sophisticated numerical integral methods that can also be implemented in Python, such as [Simpson's rule](http://mathworld.wolfram.com/SimpsonsRule.html). See e.g. [SciPy documentation](https://docs.scipy.org/doc/scipy-0.14.0/reference/integrate.html) for more info."
   ]
  },
  {
   "cell_type": "markdown",
   "metadata": {},
   "source": [
    "### Smooth function, finite limits"
   ]
  },
  {
   "cell_type": "markdown",
   "metadata": {},
   "source": [
    "For example, we want to evaluate\n",
    "$$ \\int_0^3 x^2 \\mbox{d}x = \\left[ \\frac{1}{3}x^3\\right]_0^3 = 9$$\n",
    "We will use the scipy.integrate.quad function. More info on quad [here](https://docs.scipy.org/doc/scipy/reference/generated/scipy.integrate.quad.html#scipy.integrate.quad)"
   ]
  },
  {
   "cell_type": "code",
   "execution_count": 69,
   "metadata": {},
   "outputs": [],
   "source": [
    "import scipy.integrate as integrate\n",
    "\n",
    "eval, err = integrate.quad(lambda x: x**2, 0, 3)"
   ]
  },
  {
   "cell_type": "markdown",
   "metadata": {},
   "source": [
    "The outputs are\n",
    "- \"eval\", the evaluated result\n",
    "- \"err\", the estimated absolute error (uncertainty) in the result\n",
    "\n",
    "For this simple integral, we get a result quickly with very low error:"
   ]
  },
  {
   "cell_type": "code",
   "execution_count": 70,
   "metadata": {},
   "outputs": [
    {
     "name": "stdout",
     "output_type": "stream",
     "text": [
      "9.000000000000002\n"
     ]
    }
   ],
   "source": [
    "print(eval)"
   ]
  },
  {
   "cell_type": "code",
   "execution_count": 71,
   "metadata": {},
   "outputs": [
    {
     "name": "stdout",
     "output_type": "stream",
     "text": [
      "9.992007221626411e-14\n"
     ]
    }
   ],
   "source": [
    "print(err)"
   ]
  },
  {
   "cell_type": "markdown",
   "metadata": {},
   "source": [
    "### Smooth function, infinite limits"
   ]
  },
  {
   "cell_type": "markdown",
   "metadata": {},
   "source": [
    "Now we will try an integral with an infinite limit:\n",
    "$$ \\int_0^\\infty \\sin(x)~e^{-2x}~ \\mbox{d}x  = \\frac{1}{5}$$\n",
    "Infinity is coded using the numpy variable np.inf."
   ]
  },
  {
   "cell_type": "code",
   "execution_count": 72,
   "metadata": {},
   "outputs": [],
   "source": [
    "eval, err = integrate.quad(lambda x: np.sin(x)*np.exp(-2*x), 0, np.inf)"
   ]
  },
  {
   "cell_type": "code",
   "execution_count": 73,
   "metadata": {},
   "outputs": [
    {
     "name": "stdout",
     "output_type": "stream",
     "text": [
      "0.19999999999994406 7.735218831306516e-09\n"
     ]
    }
   ],
   "source": [
    "print(eval,err)"
   ]
  }
 ],
 "metadata": {
  "kernelspec": {
   "display_name": "Python 3",
   "language": "python",
   "name": "python3"
  },
  "language_info": {
   "codemirror_mode": {
    "name": "ipython",
    "version": 3
   },
   "file_extension": ".py",
   "mimetype": "text/x-python",
   "name": "python",
   "nbconvert_exporter": "python",
   "pygments_lexer": "ipython3",
   "version": "3.6.2"
  }
 },
 "nbformat": 4,
 "nbformat_minor": 2
}
