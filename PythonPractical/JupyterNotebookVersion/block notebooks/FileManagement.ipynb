{
 "cells": [
  {
   "cell_type": "markdown",
   "metadata": {},
   "source": [
    "# File Management with os and shutil\n",
    "*See end of notebook for useful information (glossary of terms and syntax).*\n",
    "\n",
    "Example files and folders are in the '.\\os_examples' sub-folder of the block notebooks folder.\n",
    "\n",
    "* operations on paths\n",
    "* operations on directories\n",
    "* operations on files"
   ]
  },
  {
   "cell_type": "code",
   "execution_count": 17,
   "metadata": {},
   "outputs": [],
   "source": [
    "import os\n",
    "import shutil"
   ]
  },
  {
   "cell_type": "markdown",
   "metadata": {},
   "source": [
    "## Operations for paths\n",
    "https://docs.python.org/3/library/os.path.html"
   ]
  },
  {
   "cell_type": "markdown",
   "metadata": {},
   "source": [
    "### Check a path exists"
   ]
  },
  {
   "cell_type": "code",
   "execution_count": 67,
   "metadata": {},
   "outputs": [
    {
     "name": "stdout",
     "output_type": "stream",
     "text": [
      "True\n"
     ]
    }
   ],
   "source": [
    "src = '.\\os_examples'\n",
    "print(os.path.exists(src))"
   ]
  },
  {
   "cell_type": "markdown",
   "metadata": {},
   "source": [
    "### Find the absolute path (of a given relative path)"
   ]
  },
  {
   "cell_type": "code",
   "execution_count": 57,
   "metadata": {},
   "outputs": [
    {
     "data": {
      "text/plain": [
       "'C:\\\\Users\\\\tgp27\\\\Documents\\\\Python\\\\1809_practical_resource\\\\block notebooks\\\\block notebooks\\\\os_examples'"
      ]
     },
     "execution_count": 57,
     "metadata": {},
     "output_type": "execute_result"
    }
   ],
   "source": [
    "pth = '.\\\\block notebooks\\\\os_examples'\n",
    "os.path.abspath(pth)"
   ]
  },
  {
   "cell_type": "markdown",
   "metadata": {},
   "source": [
    "### Find the basename and directory name (of a file path)\n"
   ]
  },
  {
   "cell_type": "code",
   "execution_count": 52,
   "metadata": {},
   "outputs": [
    {
     "name": "stdout",
     "output_type": "stream",
     "text": [
      "os_examples\n",
      ".\\block notebooks\n"
     ]
    }
   ],
   "source": [
    "# source = src\n",
    "src = '.\\\\block notebooks\\\\os_examples'\n",
    "# Get basename\n",
    "print(os.path.basename(src))\n",
    "print(os.path.dirname(src))"
   ]
  },
  {
   "cell_type": "markdown",
   "metadata": {},
   "source": [
    "### Joining together bits of a path\n",
    "The os.path.join() function will intelligently join together path elements:\n",
    "* it will add in backslashes if they're missing (see first example)\n",
    "* it assumes anything with a backslash in front is a dir (see second example)"
   ]
  },
  {
   "cell_type": "code",
   "execution_count": 47,
   "metadata": {},
   "outputs": [
    {
     "name": "stdout",
     "output_type": "stream",
     "text": [
      "C:\\dir\\file.jpg\n",
      "C:\\file.jpg\n"
     ]
    }
   ],
   "source": [
    "bit1 = r'C:\\dir'\n",
    "bit2 = 'file.jpg'\n",
    "path1 = os.path.join(bit1,bit2)\n",
    "print(path1)\n",
    "\n",
    "bit3 = r'\\file.jpg'\n",
    "path2 = os.path.join(bit1,bit3)\n",
    "print(path2)"
   ]
  },
  {
   "cell_type": "markdown",
   "metadata": {},
   "source": [
    "## Operations for directories\n",
    "See also [Python os manual](https://docs.python.org/3/library/os.html)\n",
    "### Identifying the current working directory"
   ]
  },
  {
   "cell_type": "code",
   "execution_count": 35,
   "metadata": {},
   "outputs": [
    {
     "name": "stdout",
     "output_type": "stream",
     "text": [
      "C:\\Users\\tgp27\\Documents\\Python\\1809_practical_resource\\block notebooks\n"
     ]
    }
   ],
   "source": [
    "# get cwd = current working directory\n",
    "cwd = os.getcwd()\n",
    "print(cwd)"
   ]
  },
  {
   "cell_type": "markdown",
   "metadata": {},
   "source": [
    "### Change the cwd"
   ]
  },
  {
   "cell_type": "markdown",
   "metadata": {},
   "source": [
    "To change the cwd, use os.chdir(). This is in comments so you don't change the cwd and screw up the rest of the notebook."
   ]
  },
  {
   "cell_type": "code",
   "execution_count": 20,
   "metadata": {},
   "outputs": [
    {
     "name": "stdout",
     "output_type": "stream",
     "text": [
      "C:\\Users\\tgp27\\Documents\\Python\\1809_practical_resource\\block notebooks\n"
     ]
    }
   ],
   "source": [
    "# new_cwd = 'C:\\\\'\n",
    "# os.chdir(new_cwd)\n",
    "# print(os.getcwd())"
   ]
  },
  {
   "cell_type": "markdown",
   "metadata": {},
   "source": [
    "### Creating a directory\n",
    "A new dir (folder) can be made using the os.mkdir() function. If the input is a string (e.g. os.mkdir('my_new_folder'), the new dir is made in the current working directory. A new dir can be made in any location in the file system by specifying the absolute or relative path."
   ]
  },
  {
   "cell_type": "code",
   "execution_count": 48,
   "metadata": {},
   "outputs": [],
   "source": [
    "#Choose new dir location\n",
    "newdir = r'.\\os_examples\\new_dir'\n",
    "os.mkdir(newdir)"
   ]
  },
  {
   "cell_type": "markdown",
   "metadata": {},
   "source": [
    "### Delete a directory"
   ]
  },
  {
   "cell_type": "code",
   "execution_count": 49,
   "metadata": {},
   "outputs": [],
   "source": [
    "# Specify directory location\n",
    "deldir = r'.\\os_examples\\new_dir'\n",
    "os.rmdir(deldir)"
   ]
  },
  {
   "cell_type": "markdown",
   "metadata": {},
   "source": [
    "### Rename a directory"
   ]
  },
  {
   "cell_type": "code",
   "execution_count": 61,
   "metadata": {},
   "outputs": [
    {
     "name": "stdout",
     "output_type": "stream",
     "text": [
      "True\n"
     ]
    }
   ],
   "source": [
    "src = r'.\\os_examples\\oldname_dir'\n",
    "dst = r'.\\os_examples\\newname_dir'\n",
    "os.rename(src,dst)\n",
    "# check path exists (returns true)\n",
    "print(os.path.exists(dst))"
   ]
  },
  {
   "cell_type": "markdown",
   "metadata": {},
   "source": [
    "### List all contents of directory"
   ]
  },
  {
   "cell_type": "code",
   "execution_count": 63,
   "metadata": {},
   "outputs": [
    {
     "name": "stdout",
     "output_type": "stream",
     "text": [
      "['copy_src.txt', 'new_location.txt', 'oldname_dir', 'random_dir']\n"
     ]
    }
   ],
   "source": [
    "src = r'.\\os_examples'\n",
    "print(os.listdir(src))"
   ]
  },
  {
   "cell_type": "markdown",
   "metadata": {},
   "source": [
    "## Operations for files\n",
    "See also os manual and [shutil manual](https://docs.python.org/2/library/shutil.html\n",
    ")\n",
    "\n",
    "Reading and writing to files is covered in a separate block.\n",
    "\n",
    "### Delete a file"
   ]
  },
  {
   "cell_type": "code",
   "execution_count": 66,
   "metadata": {},
   "outputs": [],
   "source": [
    "src = r'.\\os_examples\\to_delete.png'\n",
    "# uncomment and run to delete the file\n",
    "# os.remove(src)"
   ]
  },
  {
   "cell_type": "markdown",
   "metadata": {},
   "source": [
    "### Rename a file\n",
    "Same as renaming a directory (os.rename, see example above)"
   ]
  },
  {
   "cell_type": "markdown",
   "metadata": {},
   "source": [
    "### Copying a file\n",
    "The destination can be\n",
    "* a file name (the file is copied to the given location and takes the new name)\n",
    "* a dir (the file is copied to the dir with its original name"
   ]
  },
  {
   "cell_type": "code",
   "execution_count": 54,
   "metadata": {},
   "outputs": [
    {
     "data": {
      "text/plain": [
       "'.\\\\os_examples\\\\random_dir\\\\copy_src.txt'"
      ]
     },
     "execution_count": 54,
     "metadata": {},
     "output_type": "execute_result"
    }
   ],
   "source": [
    "# source\n",
    "src = r'.\\os_examples\\copy_src.txt'\n",
    "# destination\n",
    "dst1 = r'.\\os_examples\\new_location.txt'\n",
    "dst2 = r'.\\os_examples\\random_dir'\n",
    "\n",
    "# copy to file\n",
    "shutil.copy(src,dst1)\n",
    "# copy to dir\n",
    "shutil.copy(src,dst2)"
   ]
  },
  {
   "cell_type": "markdown",
   "metadata": {},
   "source": [
    "## Useful information\n",
    "### File management glossary\n",
    "\n",
    "#### basename\n",
    "The \"short name\" of the object described by the path. For a file, it's the short filename (e.g. image.png). For a folder, it's the short folder name (e.g. My Pictures)\n",
    "#### current working directory:\n",
    "The current working directory (cwd) is the current active folder where Python/Jupyter is operating. The os package can be used to identify it (see above).\n",
    "#### directory (dir)\n",
    "Another name for a folder (a path containing collection of paths to files or subdirectories)\n",
    "#### path\n",
    "The unique location of the file in the computer's file system. Example: the Downloads folder on Windows, C:\\Users\\USERNAME\\Downloads\n",
    "\n",
    "### File name syntax in Windows and Python\n",
    "* In Windows (unlike other operating systems), the subdirectories in a path are separated by a backslash \\. In Python \n",
    "* Raw [string literal](https://docs.python.org/2/reference/lexical_analysis.html#string-literals) - add lowercase 'r' in front of the string (e.g. r'like this')\n",
    "\n",
    "### Absolute and Relative paths\n",
    "The path to a file or dir can be *absolute* or *relative*. \n",
    "* An *absolute* path is a full path from the base dir, usually the local disk (C:). \n",
    "* A *relative* path tracks the path relative to the current working directory\n",
    "\n",
    "As an example, in the block folder is a sub-directory called 'os_examples'. \n",
    "* The absolute path is 'YOURSYSTEM\\block notebooks\\os_examples'\n",
    "* The relative path (from YOURSYSTEM\\block notebooks) is '.\\os_examples'\n",
    "\n",
    "Syntax for relative paths:\n",
    "* a single dot '.' is used to represent the cwd. \n",
    "* a double dot '..' represents the superfolder (ie. the folder of which the cwd is a subfolder)"
   ]
  },
  {
   "cell_type": "code",
   "execution_count": null,
   "metadata": {},
   "outputs": [],
   "source": []
  }
 ],
 "metadata": {
  "kernelspec": {
   "display_name": "Python 3",
   "language": "python",
   "name": "python3"
  },
  "language_info": {
   "codemirror_mode": {
    "name": "ipython",
    "version": 3
   },
   "file_extension": ".py",
   "mimetype": "text/x-python",
   "name": "python",
   "nbconvert_exporter": "python",
   "pygments_lexer": "ipython3",
   "version": "3.6.2"
  }
 },
 "nbformat": 4,
 "nbformat_minor": 2
}
