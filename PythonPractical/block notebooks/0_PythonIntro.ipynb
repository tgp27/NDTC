{
 "cells": [
  {
   "cell_type": "markdown",
   "metadata": {},
   "source": [
    "# Python Introduction\n",
    "2018/10/18\n",
    "[tgp27@cam.ac.uk](mailto:tgp27@cam.ac.uk)\n",
    "\n",
    "## Sources\n",
    "Content based on \n",
    "* [Python Standard Library](https://docs.python.org/3/library/) \n",
    "* [NumPy manual](https://docs.scipy.org/doc/numpy/)\n",
    "* [Pandas manual](http://pandas.pydata.org/pandas-docs/stable/)\n",
    "* [Wikibook on Intro to Python](https://en.wikibooks.org/wiki/A_Beginner%27s_Python_Tutorial)\n",
    "* [Hands On intro to Python](https://anh.cs.luc.edu/python/hands-on/3.1/handsonHtml/index.html)\n",
    "\n",
    "\n",
    "## Contents\n",
    "### General features\n",
    "* Assigning values\n",
    "* Output: printing\n",
    "* Input\n",
    "* Comments\n",
    "\n",
    "### Data types\n",
    "* Integers and floats\n",
    "* Strings\n",
    "* Lists, Tuples and Sets\n",
    "* Dictionaries\n",
    "* Booleans and Comparison Operators\n",
    "* NumPy arrays\n",
    "* Pandas dataframes\n",
    "\n",
    "### Simple maths\n",
    "* Comparisons and Boolean operations\n",
    "* Arithmetic\n",
    "\n",
    "### Conditionals\n",
    "* if, elif, else Statements\n",
    "\n",
    "### Loops\n",
    "* for Loops\n",
    "* while Loops\n",
    "* break and continue statements\n",
    "* try and except statements\n",
    "\n",
    "### Functions\n",
    "* general functions\n",
    "* lambda expression\n",
    "* list functions, map and filter\n",
    "\n",
    "### Other Python objects\n",
    "* Classes\n",
    "* Modules and Packages\n",
    "\n",
    "____"
   ]
  },
  {
   "cell_type": "markdown",
   "metadata": {},
   "source": [
    "## General features"
   ]
  },
  {
   "cell_type": "markdown",
   "metadata": {},
   "source": [
    "### Assigning values to variables\n",
    "A variable (object) can be assigned a value using the '=' symbol:"
   ]
  },
  {
   "cell_type": "code",
   "execution_count": 124,
   "metadata": {},
   "outputs": [],
   "source": [
    "x = 4\n",
    "y = 'hello there'"
   ]
  },
  {
   "cell_type": "markdown",
   "metadata": {},
   "source": [
    "The assigned value can be removed using the *del* keyword"
   ]
  },
  {
   "cell_type": "code",
   "execution_count": 68,
   "metadata": {},
   "outputs": [
    {
     "ename": "NameError",
     "evalue": "name 'x' is not defined",
     "output_type": "error",
     "traceback": [
      "\u001b[1;31m---------------------------------------------------------------------------\u001b[0m",
      "\u001b[1;31mNameError\u001b[0m                                 Traceback (most recent call last)",
      "\u001b[1;32m<ipython-input-68-c0dc28723be4>\u001b[0m in \u001b[0;36m<module>\u001b[1;34m()\u001b[0m\n\u001b[0;32m      1\u001b[0m \u001b[0mx\u001b[0m \u001b[1;33m=\u001b[0m \u001b[1;36m3\u001b[0m\u001b[1;33m\u001b[0m\u001b[0m\n\u001b[0;32m      2\u001b[0m \u001b[1;32mdel\u001b[0m \u001b[0mx\u001b[0m\u001b[1;33m\u001b[0m\u001b[0m\n\u001b[1;32m----> 3\u001b[1;33m \u001b[0mx\u001b[0m\u001b[1;33m\u001b[0m\u001b[0m\n\u001b[0m",
      "\u001b[1;31mNameError\u001b[0m: name 'x' is not defined"
     ]
    }
   ],
   "source": [
    "x = 3\n",
    "del x\n",
    "x"
   ]
  },
  {
   "cell_type": "markdown",
   "metadata": {},
   "source": [
    "### Printing (code output)\n",
    "\n",
    "You can force the code to print (i.e. give out) any object or value. Printing is a useful way for you to follow what the code is doing"
   ]
  },
  {
   "cell_type": "code",
   "execution_count": 1,
   "metadata": {},
   "outputs": [
    {
     "name": "stdout",
     "output_type": "stream",
     "text": [
      "7\n"
     ]
    }
   ],
   "source": [
    "x = 3\n",
    "y = 4\n",
    "z = x + y\n",
    "print(z)"
   ]
  },
  {
   "cell_type": "markdown",
   "metadata": {},
   "source": [
    "### Input \n",
    "If you're writing code in Jupyter or some other text editors, you can ask the user for text input"
   ]
  },
  {
   "cell_type": "code",
   "execution_count": 1,
   "metadata": {},
   "outputs": [
    {
     "name": "stdout",
     "output_type": "stream",
     "text": [
      "Prof. Oak: Now, what did you say your name was? tom\n",
      "tom , are you ready? Your very own Pokémon story is about to unfold.\n"
     ]
    }
   ],
   "source": [
    "player = input(\"Prof. Oak: Now, what did you say your name was? \")\n",
    "print(player,\", are you ready? Your very own Pokémon story is about to unfold.\")"
   ]
  },
  {
   "cell_type": "markdown",
   "metadata": {},
   "source": [
    "[More info on input and output in Python](https://anh.cs.luc.edu/python/hands-on/3.1/handsonHtml/io.html)"
   ]
  },
  {
   "cell_type": "markdown",
   "metadata": {},
   "source": [
    "### Comments\n",
    "Comments are sections of a code file that aren't a functional part of what the code does (see example below). They are created by adding the symbol \\# (known by various names, such as hash or pound sign) to the front of a line of text.\n",
    "\n",
    "'Comments' can be helpful notes to the reader about what the code is doing. They can also be used to \"switch off\" sections of code, making them inoperative but not deleting the text, so you can \"switch it on\" again later."
   ]
  },
  {
   "cell_type": "code",
   "execution_count": 8,
   "metadata": {},
   "outputs": [
    {
     "name": "stdout",
     "output_type": "stream",
     "text": [
      "One\n"
     ]
    }
   ],
   "source": [
    "# Here are some numbers\n",
    "print('One')\n",
    "# print('Two')\n",
    "# print('Three ')"
   ]
  },
  {
   "cell_type": "markdown",
   "metadata": {},
   "source": [
    "## Data types"
   ]
  },
  {
   "cell_type": "markdown",
   "metadata": {},
   "source": [
    "### Trivial data types\n",
    "* None: a variable can have type None (no value, not even zero)\n",
    "* Boolean logic: True and False are a separate data type used for logical statements (more on this later)"
   ]
  },
  {
   "cell_type": "markdown",
   "metadata": {},
   "source": [
    "### Numeric types: integers and floats\n",
    "\n",
    "Numbers in Python can be one of [three types](https://docs.python.org/3/library/stdtypes.html#numeric-types-int-float-complex): integers (2 and -3), floats (like 2.1 and 0.0) or complex numbers (like 1 + j)."
   ]
  },
  {
   "cell_type": "code",
   "execution_count": 15,
   "metadata": {},
   "outputs": [
    {
     "name": "stdout",
     "output_type": "stream",
     "text": [
      "3.0\n"
     ]
    }
   ],
   "source": [
    "# Turn integers into floats\n",
    "x = float(3)\n",
    "print(x)"
   ]
  },
  {
   "cell_type": "code",
   "execution_count": 11,
   "metadata": {},
   "outputs": [
    {
     "name": "stdout",
     "output_type": "stream",
     "text": [
      "2 0\n"
     ]
    }
   ],
   "source": [
    "#  Turn floats into integers. Rounding.\n",
    "x = int(2.0)\n",
    "y = int(-0.3)\n",
    "\n",
    "print(x,y) #print x, then y"
   ]
  },
  {
   "cell_type": "markdown",
   "metadata": {},
   "source": [
    "### Strings\n",
    "Textual data in Python is handled with objects called [strings](https://docs.python.org/3/library/stdtypes.html#text-sequence-type-str).\n",
    "\n",
    " "
   ]
  },
  {
   "cell_type": "code",
   "execution_count": 69,
   "metadata": {},
   "outputs": [
    {
     "name": "stdout",
     "output_type": "stream",
     "text": [
      "Hey there\n"
     ]
    }
   ],
   "source": [
    "print('Hey there')"
   ]
  },
  {
   "cell_type": "markdown",
   "metadata": {},
   "source": [
    "A string containing an apostrophe can be written using \"double quotes\""
   ]
  },
  {
   "cell_type": "code",
   "execution_count": 70,
   "metadata": {},
   "outputs": [
    {
     "name": "stdout",
     "output_type": "stream",
     "text": [
      "It's fine. No really, it's fine.\n"
     ]
    }
   ],
   "source": [
    "print(\"It's fine. No really, it's fine.\")"
   ]
  },
  {
   "cell_type": "markdown",
   "metadata": {},
   "source": [
    "Strings covering more than one line of code can be written using triple quote, either '''single''' or \"\"\"double\"\"\""
   ]
  },
  {
   "cell_type": "code",
   "execution_count": 29,
   "metadata": {},
   "outputs": [
    {
     "name": "stdout",
     "output_type": "stream",
     "text": [
      "Nature and Nature's laws lay hid in night;\n",
      "God said, 'Let Newton be!' and all was light. \n",
      "(Alexander Pope, 1727)\n"
     ]
    }
   ],
   "source": [
    "x = \"\"\"Nature and Nature's laws lay hid in night;\n",
    "God said, 'Let Newton be!' and all was light. \n",
    "(Alexander Pope, 1727)\"\"\"\n",
    "print(x)"
   ]
  },
  {
   "cell_type": "markdown",
   "metadata": {},
   "source": [
    "Strings can be joined together using maths-style addition"
   ]
  },
  {
   "cell_type": "code",
   "execution_count": 36,
   "metadata": {},
   "outputs": [
    {
     "name": "stdout",
     "output_type": "stream",
     "text": [
      "easy tiger\n"
     ]
    }
   ],
   "source": [
    "x = 'easy'\n",
    "y = ' '\n",
    "z = 'tiger'\n",
    "print(x + y + z)"
   ]
  },
  {
   "cell_type": "markdown",
   "metadata": {},
   "source": [
    "Strings can be split using the .split() function, at the spaces or any other given point"
   ]
  },
  {
   "cell_type": "code",
   "execution_count": 151,
   "metadata": {},
   "outputs": [
    {
     "name": "stdout",
     "output_type": "stream",
     "text": [
      "['raise', 'the', 'roof']\n",
      "['raise', 'roof']\n"
     ]
    }
   ],
   "source": [
    "x = 'raise the roof'\n",
    "a = x.split()\n",
    "print(a)\n",
    "\n",
    "# divide the string by removing the given sub-string\n",
    "b = x.split(' the ')\n",
    "print(b)"
   ]
  },
  {
   "cell_type": "markdown",
   "metadata": {},
   "source": [
    "Also note that the comment symbol \\# doesn't turn the line into a comment if it's inside a string"
   ]
  },
  {
   "cell_type": "code",
   "execution_count": 18,
   "metadata": {},
   "outputs": [
    {
     "name": "stdout",
     "output_type": "stream",
     "text": [
      "Number #0\n"
     ]
    }
   ],
   "source": [
    "print('Number #0')"
   ]
  },
  {
   "cell_type": "markdown",
   "metadata": {},
   "source": [
    "### Sequence types : lists, tuples and range\n",
    "[More on sequence types](https://docs.python.org/3/library/stdtypes.html#sequence-types-list-tuple-range)\n",
    "\n",
    "#### Indexing - selecting items from sequences\n",
    "\n",
    "In an ordered sequence of objects, a given object is selected by specifying its index. For example, a string behaves as an ordered sequence of letters. Remember that counting in Python starts from zero. "
   ]
  },
  {
   "cell_type": "code",
   "execution_count": 43,
   "metadata": {},
   "outputs": [
    {
     "name": "stdout",
     "output_type": "stream",
     "text": [
      "h y\n"
     ]
    }
   ],
   "source": [
    "str1 = 'hey there'\n",
    "char1 = str1[0]\n",
    "char2 = str1[2]\n",
    "print(char1, char2)"
   ]
  },
  {
   "cell_type": "markdown",
   "metadata": {},
   "source": [
    "#### Lists\n",
    "Lists [  ] are ordered sequences of mixed objects (known as the *elements* of the string). The elements can be strings, numbers, lists or other data types\n",
    "\n",
    "The length of a list (or other sequence object) can be checked using the len() function."
   ]
  },
  {
   "cell_type": "code",
   "execution_count": 70,
   "metadata": {},
   "outputs": [
    {
     "name": "stdout",
     "output_type": "stream",
     "text": [
      "[1, 2, 3]\n",
      "5\n"
     ]
    }
   ],
   "source": [
    "list1 = ['a', 'b', 'c']\n",
    "list2 = [1,2,3]\n",
    "list3 = ['do','re', 3, list1, list2]\n",
    "print(list3[4])\n",
    "print(len(list3))"
   ]
  },
  {
   "cell_type": "markdown",
   "metadata": {},
   "source": [
    "In lists, new values can be assigned to list elements:"
   ]
  },
  {
   "cell_type": "code",
   "execution_count": 51,
   "metadata": {},
   "outputs": [
    {
     "name": "stdout",
     "output_type": "stream",
     "text": [
      "[1, 2, 4, 5, 16]\n"
     ]
    }
   ],
   "source": [
    "list4 = [1,2,4,8,16]\n",
    "list4[3] = 5\n",
    "print(list4)"
   ]
  },
  {
   "cell_type": "markdown",
   "metadata": {},
   "source": [
    "We can also append new values to the list. Note that this can't be used to join together two lists - but that's easily done with a + symbol."
   ]
  },
  {
   "cell_type": "code",
   "execution_count": 143,
   "metadata": {},
   "outputs": [
    {
     "name": "stdout",
     "output_type": "stream",
     "text": [
      "[6]\n",
      "[6, [7, 8, 9]]\n",
      "[1, 3, 6, 7, 10, 13]\n"
     ]
    }
   ],
   "source": [
    "list5 = [] # initially empty\n",
    "list5.append(6)\n",
    "print(list5)\n",
    "\n",
    "list5.append([7,8,9])\n",
    "print(list5)\n",
    "\n",
    "list6 = [1,3,6]\n",
    "list7 = [7,10,13]\n",
    "print(list6+list7)"
   ]
  },
  {
   "cell_type": "markdown",
   "metadata": {},
   "source": [
    "#### Tuples\n",
    "\n",
    "Tuples (  ) are a lot like lists, except they are not editable (therefore good for assigning values that you don't want the user to be able to change later). It's also Python convention to use tuples for homogeneous sequences (e.g. all numbers) and lists for heterogeneous (mixed) sequences."
   ]
  },
  {
   "cell_type": "code",
   "execution_count": 53,
   "metadata": {},
   "outputs": [
    {
     "name": "stdout",
     "output_type": "stream",
     "text": [
      "[-3, 2, 3]\n"
     ]
    },
    {
     "ename": "TypeError",
     "evalue": "'tuple' object does not support item assignment",
     "output_type": "error",
     "traceback": [
      "\u001b[1;31m---------------------------------------------------------------------------\u001b[0m",
      "\u001b[1;31mTypeError\u001b[0m                                 Traceback (most recent call last)",
      "\u001b[1;32m<ipython-input-53-8571438a2980>\u001b[0m in \u001b[0;36m<module>\u001b[1;34m()\u001b[0m\n\u001b[0;32m      5\u001b[0m \u001b[0mtup1\u001b[0m \u001b[1;33m=\u001b[0m \u001b[1;33m(\u001b[0m\u001b[1;36m1\u001b[0m\u001b[1;33m,\u001b[0m\u001b[1;36m2\u001b[0m\u001b[1;33m,\u001b[0m\u001b[1;36m3\u001b[0m\u001b[1;33m)\u001b[0m\u001b[1;33m\u001b[0m\u001b[0m\n\u001b[0;32m      6\u001b[0m \u001b[1;31m# next line gives error\u001b[0m\u001b[1;33m\u001b[0m\u001b[1;33m\u001b[0m\u001b[0m\n\u001b[1;32m----> 7\u001b[1;33m \u001b[0mtup1\u001b[0m\u001b[1;33m[\u001b[0m\u001b[1;36m0\u001b[0m\u001b[1;33m]\u001b[0m \u001b[1;33m=\u001b[0m \u001b[1;33m-\u001b[0m\u001b[1;36m3\u001b[0m\u001b[1;33m\u001b[0m\u001b[0m\n\u001b[0m",
      "\u001b[1;31mTypeError\u001b[0m: 'tuple' object does not support item assignment"
     ]
    }
   ],
   "source": [
    "list5 = [1,2,3]\n",
    "list5[0] = -3\n",
    "print(list5)\n",
    "\n",
    "tup1 = (1,2,3)\n",
    "# next line gives error\n",
    "tup1[0] = -3"
   ]
  },
  {
   "cell_type": "markdown",
   "metadata": {},
   "source": [
    "#### Ranges\n",
    "Ranges are sequences of numbers in a given range, useful for loops (see later)"
   ]
  },
  {
   "cell_type": "code",
   "execution_count": 57,
   "metadata": {},
   "outputs": [
    {
     "name": "stdout",
     "output_type": "stream",
     "text": [
      "[0, 1, 2, 3, 4, 5, 6, 7, 8, 9]\n",
      "[5, 6, 7, 8, 9, 10]\n",
      "[0, 5, 10, 15, 20, 25]\n"
     ]
    }
   ],
   "source": [
    "# range of 10\n",
    "list6 = list(range(10))\n",
    "print(list6)\n",
    "\n",
    "# from 5 to 11 (note it stops at 10!)\n",
    "list7 = list(range(5, 11))\n",
    "print(list7)\n",
    "\n",
    "# 0 to 30 in steps of 5\n",
    "list8 = list(range(0, 30, 5))\n",
    "print(list8)"
   ]
  },
  {
   "cell_type": "markdown",
   "metadata": {},
   "source": [
    "### Dictionaries - the mappable data type"
   ]
  },
  {
   "cell_type": "markdown",
   "metadata": {},
   "source": [
    "In Python, a dictionary is a special kind of list with keys assigned to values (the key is the 'word' and the value is the 'definition' in the analogy to a dictionary).\n",
    "\n",
    "Keys can be integers or strings. Values can be pretty much anything.\n",
    "\n",
    "Dictionaries can be formed in many possible ways from a given paired set of keys and values"
   ]
  },
  {
   "cell_type": "code",
   "execution_count": 80,
   "metadata": {},
   "outputs": [
    {
     "name": "stdout",
     "output_type": "stream",
     "text": [
      "dict_keys(['one', 'two', 'three'])\n",
      "dict_values([1, 2, 3])\n"
     ]
    }
   ],
   "source": [
    "a = dict(one=1, two=2, three=3)\n",
    "b = {'one': 1, 'two': 2, 'three': 3}\n",
    "c = dict(zip(['one', 'two', 'three'], [1, 2, 3]))\n",
    "d = dict([('two', 2), ('one', 1), ('three', 3)])\n",
    "e = dict({'three': 3, 'one': 1, 'two': 2})\n",
    "a == b == c == d == e\n",
    "print(b.keys())\n",
    "print(c.values())"
   ]
  },
  {
   "cell_type": "markdown",
   "metadata": {},
   "source": [
    "New values can be assigned in a manner similar to lists. \n",
    "\n",
    "Keys and values can be deleted using the del keyword.\n",
    "\n",
    "New pairs can be appended using the .update() function."
   ]
  },
  {
   "cell_type": "code",
   "execution_count": 76,
   "metadata": {},
   "outputs": [
    {
     "name": "stdout",
     "output_type": "stream",
     "text": [
      "{'red': 0, 'green': 2, 'yellow': 5}\n"
     ]
    }
   ],
   "source": [
    "a = dict(red=1, green=2, blue=3)\n",
    "a['red'] = 0\n",
    "del a['blue']\n",
    "a.update({'yellow':5})\n",
    "print(a)"
   ]
  },
  {
   "cell_type": "markdown",
   "metadata": {},
   "source": [
    "### NumPy arrays\n",
    "A discussion of numpy arrays is not part of a typical introduction to Python, but is likely you will be using numpy arrays extensively. \n",
    "\n",
    "[More info from the SciPy manual](https://docs.scipy.org/doc/numpy-1.15.1/reference/arrays.html)\n",
    "\n",
    "The following is taken from the NumPy website:\n",
    "\n",
    "An array is a multidimensional container of items of the same type and size. The number of dimensions and items in an array is defined by its shape, which is a tuple of N positive integers that specify the sizes of each dimension. The type of items in the array is specified by a separate data-type object (dtype), one of which is associated with each ndarray.\n",
    "\n",
    "As with other container objects in Python, the contents of an array can be accessed and modified by indexing or slicing the array (using, for example, N integers), and via the methods and attributes of the array.\n",
    "\n",
    "An array can be created by lists of rows nested into a list of columns (see below). Once an array is defined, the shape and data type (dtype) of an array can easily be extracted:"
   ]
  },
  {
   "cell_type": "code",
   "execution_count": 87,
   "metadata": {},
   "outputs": [
    {
     "name": "stdout",
     "output_type": "stream",
     "text": [
      "(2, 3)\n",
      "int32\n"
     ]
    }
   ],
   "source": [
    "import numpy as np\n",
    "array1 = np.array([[1, 2, 3], [4, 5, 6]])\n",
    "print(array1.shape)\n",
    "print(array1.dtype)"
   ]
  },
  {
   "cell_type": "markdown",
   "metadata": {},
   "source": [
    "Array indexing works like a regular matrix (row then column, counting from 0)"
   ]
  },
  {
   "cell_type": "code",
   "execution_count": 92,
   "metadata": {},
   "outputs": [
    {
     "name": "stdout",
     "output_type": "stream",
     "text": [
      "1\n",
      "6\n"
     ]
    }
   ],
   "source": [
    "#import numpy as np\n",
    "array2 = np.array([[1, 2, 3], [4, 5, 6]])\n",
    "print(array2[0,0])\n",
    "print(array2[1,2])"
   ]
  },
  {
   "cell_type": "markdown",
   "metadata": {},
   "source": [
    "We can obtain a slice through the data using ':' instead of a specific index:"
   ]
  },
  {
   "cell_type": "code",
   "execution_count": 93,
   "metadata": {},
   "outputs": [
    {
     "name": "stdout",
     "output_type": "stream",
     "text": [
      "[1 4]\n",
      "[4 5 6]\n"
     ]
    }
   ],
   "source": [
    "#import numpy as np\n",
    "array3 = np.array([[1, 2, 3], [4, 5, 6]])\n",
    "print(array3[:,0])\n",
    "print(array3[1,:])"
   ]
  },
  {
   "cell_type": "markdown",
   "metadata": {},
   "source": [
    "Some useful special arrays from numpy:\n",
    "* np.zeros((row, col)) for all zeros\n",
    "* np.empty((row, col)) for an empty array (default is also zeros)\n",
    "* np.identity(N), NxN square identity matrix\n",
    "* np.full((row, col), value), array full of a given value"
   ]
  },
  {
   "cell_type": "code",
   "execution_count": 100,
   "metadata": {},
   "outputs": [
    {
     "name": "stdout",
     "output_type": "stream",
     "text": [
      "[[ 0.  0.  0.  0.]]\n",
      "[[ 1.  1.  1.]\n",
      " [ 1.  1.  1.]]\n",
      "[[ 1.  0.]\n",
      " [ 0.  1.]]\n",
      "[['ha' 'ha' 'ha' 'ha' 'ha' 'ha' 'ha']]\n"
     ]
    }
   ],
   "source": [
    "#import numpy as np\n",
    "array4 = np.zeros((1,4))\n",
    "print(array4)\n",
    "\n",
    "array5 = np.empty((2,3))\n",
    "print(array5)\n",
    "\n",
    "array6 = np.identity(2)\n",
    "print(array6)\n",
    "\n",
    "array7 = np.full((1,7),'ha')\n",
    "print(array7)"
   ]
  },
  {
   "cell_type": "markdown",
   "metadata": {},
   "source": [
    "### Pandas dataframes\n",
    "\n",
    "For large tables of data, it is convenient to use the pandas package, which introduces the [DataFrame](https://pandas.pydata.org/pandas-docs/stable/generated/pandas.DataFrame.html) type.\n",
    "\n",
    "A dataframe is a little like a dictionary or a numpy array. Each column of data has a text heading, with the row written as a 1D array."
   ]
  },
  {
   "cell_type": "code",
   "execution_count": 105,
   "metadata": {},
   "outputs": [
    {
     "data": {
      "text/html": [
       "<div>\n",
       "<style>\n",
       "    .dataframe thead tr:only-child th {\n",
       "        text-align: right;\n",
       "    }\n",
       "\n",
       "    .dataframe thead th {\n",
       "        text-align: left;\n",
       "    }\n",
       "\n",
       "    .dataframe tbody tr th {\n",
       "        vertical-align: top;\n",
       "    }\n",
       "</style>\n",
       "<table border=\"1\" class=\"dataframe\">\n",
       "  <thead>\n",
       "    <tr style=\"text-align: right;\">\n",
       "      <th></th>\n",
       "      <th>col1</th>\n",
       "      <th>col2</th>\n",
       "    </tr>\n",
       "  </thead>\n",
       "  <tbody>\n",
       "    <tr>\n",
       "      <th>0</th>\n",
       "      <td>1</td>\n",
       "      <td>3</td>\n",
       "    </tr>\n",
       "    <tr>\n",
       "      <th>1</th>\n",
       "      <td>2</td>\n",
       "      <td>4</td>\n",
       "    </tr>\n",
       "  </tbody>\n",
       "</table>\n",
       "</div>"
      ],
      "text/plain": [
       "   col1  col2\n",
       "0     1     3\n",
       "1     2     4"
      ]
     },
     "execution_count": 105,
     "metadata": {},
     "output_type": "execute_result"
    }
   ],
   "source": [
    "import pandas as pd\n",
    "dat = {'col1': [1, 2], 'col2': [3, 4]}\n",
    "df = pd.DataFrame(data=dat)\n",
    "df"
   ]
  },
  {
   "cell_type": "markdown",
   "metadata": {},
   "source": [
    "A dataframe can also be created from a numpy array directly."
   ]
  },
  {
   "cell_type": "code",
   "execution_count": 107,
   "metadata": {},
   "outputs": [
    {
     "data": {
      "text/html": [
       "<div>\n",
       "<style>\n",
       "    .dataframe thead tr:only-child th {\n",
       "        text-align: right;\n",
       "    }\n",
       "\n",
       "    .dataframe thead th {\n",
       "        text-align: left;\n",
       "    }\n",
       "\n",
       "    .dataframe tbody tr th {\n",
       "        vertical-align: top;\n",
       "    }\n",
       "</style>\n",
       "<table border=\"1\" class=\"dataframe\">\n",
       "  <thead>\n",
       "    <tr style=\"text-align: right;\">\n",
       "      <th></th>\n",
       "      <th>one</th>\n",
       "      <th>two</th>\n",
       "      <th>three</th>\n",
       "    </tr>\n",
       "  </thead>\n",
       "  <tbody>\n",
       "    <tr>\n",
       "      <th>0</th>\n",
       "      <td>1</td>\n",
       "      <td>2</td>\n",
       "      <td>3</td>\n",
       "    </tr>\n",
       "    <tr>\n",
       "      <th>1</th>\n",
       "      <td>4</td>\n",
       "      <td>5</td>\n",
       "      <td>6</td>\n",
       "    </tr>\n",
       "    <tr>\n",
       "      <th>2</th>\n",
       "      <td>7</td>\n",
       "      <td>8</td>\n",
       "      <td>9</td>\n",
       "    </tr>\n",
       "  </tbody>\n",
       "</table>\n",
       "</div>"
      ],
      "text/plain": [
       "   one  two  three\n",
       "0    1    2      3\n",
       "1    4    5      6\n",
       "2    7    8      9"
      ]
     },
     "execution_count": 107,
     "metadata": {},
     "output_type": "execute_result"
    }
   ],
   "source": [
    "#import pandas as pd\n",
    "arr = [[1,2,3],[4,5,6],[7,8,9]]\n",
    "df2 = pd.DataFrame(arr, columns=['one','two','three'])\n",
    "df2"
   ]
  },
  {
   "cell_type": "markdown",
   "metadata": {},
   "source": [
    "Conversely, a dataframe can be converted into a numpy array (making it easy to use pandas and numpy together)."
   ]
  },
  {
   "cell_type": "code",
   "execution_count": 115,
   "metadata": {},
   "outputs": [
    {
     "name": "stdout",
     "output_type": "stream",
     "text": [
      "[[1 2 3]\n",
      " [4 5 6]\n",
      " [7 8 9]]\n"
     ]
    }
   ],
   "source": [
    "#import pandas as pd\n",
    "arr = [[1,2,3],[4,5,6],[7,8,9]]\n",
    "df3 = pd.DataFrame(arr, columns=['one','two','three'])\n",
    "new_arr = df3.values\n",
    "print(new_arr)"
   ]
  },
  {
   "cell_type": "markdown",
   "metadata": {},
   "source": [
    "Selecting a column or row from the dataframe is similar to dictionary. [More info](https://www.shanelynn.ie/select-pandas-dataframe-rows-and-columns-using-iloc-loc-and-ix/#iloc-selection)"
   ]
  },
  {
   "cell_type": "code",
   "execution_count": 122,
   "metadata": {},
   "outputs": [
    {
     "name": "stdout",
     "output_type": "stream",
     "text": [
      "0     3\n",
      "1     6\n",
      "2     9\n",
      "3    12\n",
      "Name: three, dtype: int64\n"
     ]
    },
    {
     "data": {
      "text/html": [
       "<div>\n",
       "<style>\n",
       "    .dataframe thead tr:only-child th {\n",
       "        text-align: right;\n",
       "    }\n",
       "\n",
       "    .dataframe thead th {\n",
       "        text-align: left;\n",
       "    }\n",
       "\n",
       "    .dataframe tbody tr th {\n",
       "        vertical-align: top;\n",
       "    }\n",
       "</style>\n",
       "<table border=\"1\" class=\"dataframe\">\n",
       "  <thead>\n",
       "    <tr style=\"text-align: right;\">\n",
       "      <th></th>\n",
       "      <th>one</th>\n",
       "      <th>two</th>\n",
       "      <th>three</th>\n",
       "    </tr>\n",
       "  </thead>\n",
       "  <tbody>\n",
       "    <tr>\n",
       "      <th>0</th>\n",
       "      <td>1</td>\n",
       "      <td>2</td>\n",
       "      <td>3</td>\n",
       "    </tr>\n",
       "    <tr>\n",
       "      <th>1</th>\n",
       "      <td>4</td>\n",
       "      <td>5</td>\n",
       "      <td>6</td>\n",
       "    </tr>\n",
       "    <tr>\n",
       "      <th>2</th>\n",
       "      <td>7</td>\n",
       "      <td>8</td>\n",
       "      <td>9</td>\n",
       "    </tr>\n",
       "  </tbody>\n",
       "</table>\n",
       "</div>"
      ],
      "text/plain": [
       "   one  two  three\n",
       "0    1    2      3\n",
       "1    4    5      6\n",
       "2    7    8      9"
      ]
     },
     "execution_count": 122,
     "metadata": {},
     "output_type": "execute_result"
    }
   ],
   "source": [
    "#import pandas as pd\n",
    "arr = [[1,2,3],[4,5,6],[7,8,9],[10,11,12]]\n",
    "df4 = pd.DataFrame(arr, columns=['one','two','three'])\n",
    "# get column\n",
    "print(df4['three'])\n",
    "# get some rows\n",
    "df4.iloc[0:3]"
   ]
  },
  {
   "cell_type": "markdown",
   "metadata": {},
   "source": [
    "A complete list of functions for dataframes can be found in the [pandas manual](https://pandas.pydata.org/pandas-docs/stable/generated/pandas.DataFrame.html)"
   ]
  },
  {
   "cell_type": "markdown",
   "metadata": {},
   "source": [
    "### Other data types\n",
    "There are lots of other data types we haven't mentioned, such as [mathematical sets](https://docs.python.org/3/c-api/set.html), which are covered in online manuals and tutorials."
   ]
  },
  {
   "cell_type": "markdown",
   "metadata": {},
   "source": [
    "## Mathematical operations"
   ]
  },
  {
   "cell_type": "markdown",
   "metadata": {},
   "source": [
    "### Logical Comparisons\n",
    "Statements in Python can be verified using the standard mathematical relations\n",
    "* '==' for equals\n",
    "* '!=' for not equal\n",
    "* '<' and '<=' for less than and less than or equal to\n",
    "* '>' and '>=' for less than and less than or equal to\n",
    "* 'is' and 'is not' can also be written to check equality\n",
    "* 'in' and 'not in' can be used to check if an element is in a list or sequence object"
   ]
  },
  {
   "cell_type": "code",
   "execution_count": 125,
   "metadata": {},
   "outputs": [
    {
     "name": "stdout",
     "output_type": "stream",
     "text": [
      "True\n",
      "False\n",
      "False\n",
      "True\n",
      "False\n",
      "False\n"
     ]
    }
   ],
   "source": [
    "x = 1\n",
    "y = 1\n",
    "z = [2,3]\n",
    "print(x==1)\n",
    "print(y!=1)\n",
    "print(x>y)\n",
    "print(x>=y)\n",
    "print(x is not y)\n",
    "print(x in z)"
   ]
  },
  {
   "cell_type": "markdown",
   "metadata": {},
   "source": [
    "### Boolean logic\n",
    "We can use 'and', 'not' and 'or' to combine together comparisons."
   ]
  },
  {
   "cell_type": "code",
   "execution_count": 146,
   "metadata": {},
   "outputs": [
    {
     "name": "stdout",
     "output_type": "stream",
     "text": [
      "True\n",
      "False\n",
      "False\n"
     ]
    }
   ],
   "source": [
    "x = 1\n",
    "y = 1\n",
    "print(x<y or x==y)\n",
    "print(not x==y) #not True = False\n",
    "print(x==y and x!=y)"
   ]
  },
  {
   "cell_type": "markdown",
   "metadata": {},
   "source": [
    "### Arithmetic\n",
    "The standard maths operations mostly use their usual symbols (but note the expections)\n",
    "* addition + and substraction -\n",
    "* multiplication \\* and division \\/\n",
    "* exponentials (powers) \\*\\*\n",
    "* modulo \\%\n",
    "* floor division //"
   ]
  },
  {
   "cell_type": "code",
   "execution_count": 132,
   "metadata": {},
   "outputs": [
    {
     "name": "stdout",
     "output_type": "stream",
     "text": [
      "3\n",
      "1\n",
      "72\n",
      "1.2857142857142858\n",
      "343\n",
      "1\n",
      "2\n"
     ]
    }
   ],
   "source": [
    "print(1+2)\n",
    "print(3-2)\n",
    "print(8*9)\n",
    "print(9/7)\n",
    "print(7**3)\n",
    "print(13%3)\n",
    "print(9//4) # = 2.25"
   ]
  },
  {
   "cell_type": "markdown",
   "metadata": {},
   "source": [
    "## Conditionals\n",
    "\n",
    "Sometimes it is useful to write pieces of codes that are only activated under specific conditions. \n",
    "\n",
    "This can be achieved using conditionals, also called 'if statements'. A conditional is introduced using a keyword followed by a logical statement. The conditional ends with a colon (:). \n",
    "\n",
    "When the condition is met, the indented piece of code below the condition statement will run. This section of code will not run otherwise, and after Python reaches the end it will continue with the rest of the script.\n",
    "\n",
    "The three big keywords here are *if*, *else* and *elif* (a combination and if and else). It's easy to see what these words do with an example (see below)."
   ]
  },
  {
   "cell_type": "code",
   "execution_count": 157,
   "metadata": {},
   "outputs": [
    {
     "name": "stdout",
     "output_type": "stream",
     "text": [
      "It's smaller\n",
      "Finished!\n"
     ]
    }
   ],
   "source": [
    "x = 0\n",
    "y = 1\n",
    "\n",
    "if x < y:\n",
    "    print(\"It's smaller\")\n",
    "elif x == y:\n",
    "    print(\"They're equal\")\n",
    "else:\n",
    "    print(\"It's larger\")\n",
    "    \n",
    "print('Finished!')"
   ]
  },
  {
   "cell_type": "markdown",
   "metadata": {},
   "source": [
    "Some more examples:"
   ]
  },
  {
   "cell_type": "code",
   "execution_count": 161,
   "metadata": {},
   "outputs": [
    {
     "name": "stdout",
     "output_type": "stream",
     "text": [
      "hey\n"
     ]
    }
   ],
   "source": [
    "if True:\n",
    "    print('hey')\n",
    "if False:\n",
    "    print('bye')"
   ]
  },
  {
   "cell_type": "markdown",
   "metadata": {},
   "source": [
    "Conditionals can also be nested"
   ]
  },
  {
   "cell_type": "code",
   "execution_count": 176,
   "metadata": {},
   "outputs": [
    {
     "name": "stdout",
     "output_type": "stream",
     "text": [
      "Large\n"
     ]
    }
   ],
   "source": [
    "x = 17\n",
    "if x > 10:\n",
    "    if x > 20:\n",
    "        print('Extra large')\n",
    "    else:\n",
    "        print('Large')\n",
    "else:\n",
    "    print('Small')"
   ]
  },
  {
   "cell_type": "markdown",
   "metadata": {},
   "source": [
    "## Loops\n",
    "It is sometimes useful to be able to run a section of code many times (rather than copying out the code over and over), which can be achieved using for loops. \n",
    "\n",
    "* For loops run a section of code for each value in a sequence (usualy lists or ranges).\n",
    "* While loops run a section of code so long as a given condition is satisfied.\n",
    "\n",
    "Like conditionals, for loops can be nested.\n",
    "\n",
    "### For loops"
   ]
  },
  {
   "cell_type": "code",
   "execution_count": 167,
   "metadata": {},
   "outputs": [
    {
     "name": "stdout",
     "output_type": "stream",
     "text": [
      "1\n",
      "0\n",
      "1\n",
      "4\n",
      "9\n",
      "16\n"
     ]
    }
   ],
   "source": [
    "rg = range(-1,5)\n",
    "for num in rg:\n",
    "    z = num**2\n",
    "    print(z)"
   ]
  },
  {
   "cell_type": "code",
   "execution_count": 169,
   "metadata": {},
   "outputs": [
    {
     "name": "stdout",
     "output_type": "stream",
     "text": [
      "Hey Tom\n",
      "Hey Dick\n",
      "Hey Harry\n"
     ]
    }
   ],
   "source": [
    "list1 = ['Tom','Dick','Harry']\n",
    "\n",
    "for item in list1:\n",
    "    print('Hey ' + item)"
   ]
  },
  {
   "cell_type": "markdown",
   "metadata": {},
   "source": [
    "If we want to calculate cumulative values, there is a shorthand (+= or -=)."
   ]
  },
  {
   "cell_type": "code",
   "execution_count": 172,
   "metadata": {},
   "outputs": [
    {
     "name": "stdout",
     "output_type": "stream",
     "text": [
      "28\n",
      "28\n",
      "-28\n"
     ]
    }
   ],
   "source": [
    "rg = range(1,8)\n",
    "\n",
    "final_sum1 = 0\n",
    "final_sum2 = 0\n",
    "neg_sum = 0\n",
    "for num in rg:\n",
    "    final_sum1 = final_sum1 + num\n",
    "    final_sum2 += num\n",
    "    neg_sum -= num\n",
    "print(final_sum1)\n",
    "print(final_sum2)\n",
    "print(neg_sum)"
   ]
  },
  {
   "cell_type": "markdown",
   "metadata": {},
   "source": [
    "### While Loops"
   ]
  },
  {
   "cell_type": "code",
   "execution_count": 183,
   "metadata": {},
   "outputs": [
    {
     "name": "stdout",
     "output_type": "stream",
     "text": [
      "Temperature is 18 Celsius. It's too cold.\n",
      "Temperature is 19 Celsius. It's too cold.\n",
      "Temperature is 20 Celsius. It's too cold.\n",
      "It's warm enough now\n"
     ]
    }
   ],
   "source": [
    "temp = 18\n",
    "while temp < 21:\n",
    "    print(\"Temperature is\", temp, \"Celsius. It's too cold.\")\n",
    "    temp = temp+1\n",
    "print(\"It's warm enough now\")"
   ]
  },
  {
   "cell_type": "markdown",
   "metadata": {},
   "source": [
    "### Break and continue statements \n",
    "\n",
    "If you want the code to stop once a condition has been satisfied, you can use the break keyword"
   ]
  },
  {
   "cell_type": "code",
   "execution_count": 186,
   "metadata": {},
   "outputs": [
    {
     "name": "stdout",
     "output_type": "stream",
     "text": [
      "1\n",
      "2\n",
      "3\n",
      "4\n",
      "5\n",
      "Reached five. Terminating now.\n"
     ]
    }
   ],
   "source": [
    "rg = range(1,10)\n",
    "for n in rg:\n",
    "    print(n)\n",
    "    if n == 5:\n",
    "        print('Reached five. Terminating now.')\n",
    "        break"
   ]
  },
  {
   "cell_type": "markdown",
   "metadata": {},
   "source": [
    "The continue statement can be used to return to the loop once a sub-section of code has been run"
   ]
  },
  {
   "cell_type": "code",
   "execution_count": 190,
   "metadata": {},
   "outputs": [
    {
     "name": "stdout",
     "output_type": "stream",
     "text": [
      "e\n",
      "y\n",
      " \n",
      "t\n",
      "e\n",
      "r\n",
      "e\n"
     ]
    }
   ],
   "source": [
    "# continue returns us straight to the top\n",
    "for letter in 'hey there':\n",
    "    if letter == 'h':\n",
    "        continue\n",
    "    print(letter)"
   ]
  },
  {
   "cell_type": "markdown",
   "metadata": {},
   "source": [
    "### Exceptions - try and except\n",
    "During loops (and elsewhere in Python programming) there may be circumstances when the code will produce an error for a given input. By default Python will stop interpeting the code at the line where the error occurs and will not continue reading the rest of the code. We can tell Python to over-ride this.\n",
    "\n",
    "If something has a risk of error, we can wrap it in a *try* statement. If the *try* fails, then we can specify what should happen with the *except* keyword. Everything after the *except* statement will run as normal."
   ]
  },
  {
   "cell_type": "code",
   "execution_count": 58,
   "metadata": {},
   "outputs": [
    {
     "name": "stdout",
     "output_type": "stream",
     "text": [
      "Was not successful\n",
      "Code finished\n"
     ]
    }
   ],
   "source": [
    "try:\n",
    "    1/0\n",
    "except:\n",
    "    print('Was not successful')\n",
    "print('Code finished')"
   ]
  },
  {
   "cell_type": "markdown",
   "metadata": {},
   "source": [
    "The form of *except* above will work regardless of the kind of error. However, we can also specify the kind of error we want to avoid. A list of exceptions can be found [here](https://docs.python.org/3/library/exceptions.html)"
   ]
  },
  {
   "cell_type": "code",
   "execution_count": null,
   "metadata": {},
   "outputs": [],
   "source": [
    "try:\n",
    "    2 + 'two'\n",
    "except TypeError:\n",
    "    print(\"can't mix these 2\")"
   ]
  },
  {
   "cell_type": "markdown",
   "metadata": {},
   "source": [
    "A *try* statement can be combined with an *else* like *if*, and it can also include a *finally* statement - some code to run whether an exception occurs or not."
   ]
  },
  {
   "cell_type": "code",
   "execution_count": 67,
   "metadata": {},
   "outputs": [
    {
     "name": "stdout",
     "output_type": "stream",
     "text": [
      "Type Error\n",
      "end\n"
     ]
    }
   ],
   "source": [
    "x = 1\n",
    "y = 'One' #try replacing 'One' with a number\n",
    "\n",
    "try: \n",
    "    x + y\n",
    "except TypeError:\n",
    "    print(\"Type Error\")\n",
    "else:\n",
    "    print(\"boo\")\n",
    "finally:\n",
    "    print(\"end\")"
   ]
  },
  {
   "cell_type": "markdown",
   "metadata": {},
   "source": [
    "## Functions\n",
    "\n",
    "Functions in Python are small scripts that accept a given group of objects (called *arguments*) as an input and produces another group of objects as output. It can be considered a generalisation of the kind of mathematical function $y = f(x)$ that you're familiar with from maths courses.\n",
    "\n",
    "The anatomy of a function can be seen in the example below:"
   ]
  },
  {
   "cell_type": "code",
   "execution_count": 9,
   "metadata": {},
   "outputs": [
    {
     "name": "stdout",
     "output_type": "stream",
     "text": [
      "hey\n",
      "1\n"
     ]
    },
    {
     "ename": "NameError",
     "evalue": "name 'x' is not defined",
     "output_type": "error",
     "traceback": [
      "\u001b[1;31m---------------------------------------------------------------------------\u001b[0m",
      "\u001b[1;31mNameError\u001b[0m                                 Traceback (most recent call last)",
      "\u001b[1;32m<ipython-input-9-25ba932199ad>\u001b[0m in \u001b[0;36m<module>\u001b[1;34m()\u001b[0m\n\u001b[0;32m     15\u001b[0m \u001b[0mz\u001b[0m \u001b[1;33m=\u001b[0m \u001b[0mexample_function\u001b[0m\u001b[1;33m(\u001b[0m\u001b[1;36m2\u001b[0m\u001b[1;33m,\u001b[0m\u001b[1;34m'hey'\u001b[0m\u001b[1;33m)\u001b[0m\u001b[1;33m\u001b[0m\u001b[0m\n\u001b[0;32m     16\u001b[0m \u001b[0mprint\u001b[0m\u001b[1;33m(\u001b[0m\u001b[0mz\u001b[0m\u001b[1;33m)\u001b[0m\u001b[1;33m\u001b[0m\u001b[0m\n\u001b[1;32m---> 17\u001b[1;33m \u001b[0mprint\u001b[0m\u001b[1;33m(\u001b[0m\u001b[0mx\u001b[0m\u001b[1;33m)\u001b[0m\u001b[1;33m\u001b[0m\u001b[0m\n\u001b[0m",
      "\u001b[1;31mNameError\u001b[0m: name 'x' is not defined"
     ]
    }
   ],
   "source": [
    "a = 1\n",
    "b = 3\n",
    "\n",
    "def example_function(x,y):\n",
    "    \"\"\"\n",
    "    comments on what the function does.\n",
    "    Arguments:\n",
    "    x -- a float value\n",
    "    y -- a string\n",
    "    \"\"\"\n",
    "    print(y)\n",
    "    out = a*x**2 - b\n",
    "    return out\n",
    "\n",
    "z = example_function(2,'hey')\n",
    "print(z)\n",
    "print(x)"
   ]
  },
  {
   "cell_type": "markdown",
   "metadata": {},
   "source": [
    "Notice the following features:\n",
    "\n",
    "#### The first line\n",
    "* the definition of a function begins with the *def* keyword\n",
    "* *def* is followed by the function name - it is conventional to use lower_case_and_underscores for function names in Python\n",
    "* after the function name we give a tuple of input values (also called parameters, or arguments when the function is called (not sure why there are multiple names for the same thing).\n",
    "\n",
    "#### The main block of code\n",
    "* we can add some comments about what code will do using \"\"\"triple quotes\"\"\" - this docstring comment can stretch over several lines, unlike normal # comments. Once you've created a function, you can check what the arguments should be by typing the function (example_function( ) and then pressing Shift+Tab to view the docstring comment. \n",
    "* the block of code for the function is *indented* (one tab or four spaces) relative to the rest of the script. There has to be exactly this space for every line of the code, or it will not be interpreted successfully by Python.\n",
    "* the function can depend on variables defined in the preceding code (a,b) or the given arguments (x,y). \n",
    "\n",
    "#### The output\n",
    "* the output of the function is chosen by putting the *return* keyword before the output variables.\n",
    "* print(x) fails : the labels for the input value (e.g. x) are only used within the function definition, and are not variables in the main code.\n",
    "\n",
    "#### Using the function\n",
    "* In Python, a function is *called* when it is used to assign values to a new variable (the line z = example_function...). \n",
    "\n",
    "### Other features of functions\n",
    "* Optional parameters: we can assign default values to some parameters, in case they are not specified by the user"
   ]
  },
  {
   "cell_type": "code",
   "execution_count": 18,
   "metadata": {},
   "outputs": [
    {
     "name": "stdout",
     "output_type": "stream",
     "text": [
      "4.0\n",
      "8.0\n"
     ]
    }
   ],
   "source": [
    "def geom_mean(a,b=1):\n",
    "    '''\n",
    "    find the geometric mean of two numbers\n",
    "    '''\n",
    "    out = (a*b)**(0.5)\n",
    "    return out\n",
    "print(geom_mean(16))\n",
    "print(geom_mean(16,4))"
   ]
  },
  {
   "cell_type": "markdown",
   "metadata": {},
   "source": [
    "* keyword parameters: we can choose a name, so the parameters don't have to be entered in the exact same order"
   ]
  },
  {
   "cell_type": "code",
   "execution_count": 27,
   "metadata": {},
   "outputs": [
    {
     "data": {
      "text/plain": [
       "6"
      ]
     },
     "execution_count": 27,
     "metadata": {},
     "output_type": "execute_result"
    }
   ],
   "source": [
    "def weird_sum(a=0,b=0,c=0):\n",
    "    return a + b - c\n",
    "weird_sum(c=1,b=5,a=2)"
   ]
  },
  {
   "cell_type": "markdown",
   "metadata": {
    "collapsed": true
   },
   "source": [
    "* functions can handle an unknown number of parameters, using the * prefix. The final set of parameters is in the form of a tuple"
   ]
  },
  {
   "cell_type": "code",
   "execution_count": 37,
   "metadata": {
    "scrolled": true
   },
   "outputs": [
    {
     "name": "stdout",
     "output_type": "stream",
     "text": [
      "Hey Jack and Jill\n",
      "and ('Tom', 'Dick', 'Harry')\n"
     ]
    }
   ],
   "source": [
    "def megaprint(str1,str2,*morestr):\n",
    "    out1 = 'Hey ' + str1 + ' and ' + str2\n",
    "    out2 = 'and ' + str(morestr)\n",
    "    return out1,out2\n",
    "y1,y2 = megaprint('Jack','Jill','Tom','Dick','Harry')\n",
    "print(y1)\n",
    "print(y2)"
   ]
  },
  {
   "cell_type": "markdown",
   "metadata": {},
   "source": [
    "### Functional programming with lambdas\n",
    "\n",
    "Another way to perform mathematical functions with Python is with [lambda expressions](https://docs.python.org/3.5/tutorial/controlflow.html#lambda-expressions). Lambda expressions are much more like regular maths functions you're used to, and are therefore more limited than regular functions, but can be handy for circumstances when you want a simple mathematical function. They are also useful for filtering (see below)"
   ]
  },
  {
   "cell_type": "code",
   "execution_count": 43,
   "metadata": {},
   "outputs": [
    {
     "name": "stdout",
     "output_type": "stream",
     "text": [
      "9\n"
     ]
    }
   ],
   "source": [
    "y = lambda x: x**2 + 2*x + 1\n",
    "print(y(2))"
   ]
  },
  {
   "cell_type": "markdown",
   "metadata": {},
   "source": [
    "### Functions on lists\n",
    "#### Mapping\n",
    "Mapping can be used to apply a given operation to a list. It can therefore serve as a kind of function, provided the input is a list"
   ]
  },
  {
   "cell_type": "code",
   "execution_count": 52,
   "metadata": {},
   "outputs": [
    {
     "name": "stdout",
     "output_type": "stream",
     "text": [
      "[0.25, 0.5, 0.75, 1.0, 1.25]\n",
      "[0.25, 0.5, 0.75, 1.0, 1.25]\n"
     ]
    }
   ],
   "source": [
    "def quartring(a):\n",
    "    return a/4\n",
    "x = [1,2,3,4,5]\n",
    "y1 = list(map(quartring,lst))\n",
    "# or using lambda expressions\n",
    "y2 = list(map(lambda x: x/4,lst))\n",
    "print(y1)\n",
    "print(y2)"
   ]
  },
  {
   "cell_type": "markdown",
   "metadata": {},
   "source": [
    "#### Filtering\n",
    "Filtering can be used to select certain items from a list, satisfying a given condition"
   ]
  },
  {
   "cell_type": "code",
   "execution_count": 55,
   "metadata": {},
   "outputs": [
    {
     "name": "stdout",
     "output_type": "stream",
     "text": [
      "[-30, -25, -20, -15, -10, -5]\n"
     ]
    }
   ],
   "source": [
    "nums = range(-30, 35,5)\n",
    "subzero = list(filter(lambda x: x < 0, nums))\n",
    "print(subzero)"
   ]
  },
  {
   "cell_type": "markdown",
   "metadata": {},
   "source": [
    "## More Python objects\n",
    "\n",
    "The contents above should be enough for the practical - below are some more advanced topics which you can read about if you're interested.\n",
    "\n",
    "* [Classes](https://docs.python.org/3/tutorial/classes.html) are more complicated code objects, one level above functions in the hierarchy. A particular *instance* of a class can have several functions within it. \n",
    "* [Modules](https://docs.python.org/3/tutorial/modules.html) are Python scripts you can *import* into your current script so you can use the functions from the module without having to re-write the same code in your script. [Packages](https://docs.python.org/3/tutorial/modules.html#packages) (e.g. numpy, matplotlib) are examples of modules, but you can also import local .py scripts from your own computer."
   ]
  }
 ],
 "metadata": {
  "kernelspec": {
   "display_name": "Python 3",
   "language": "python",
   "name": "python3"
  },
  "language_info": {
   "codemirror_mode": {
    "name": "ipython",
    "version": 3
   },
   "file_extension": ".py",
   "mimetype": "text/x-python",
   "name": "python",
   "nbconvert_exporter": "python",
   "pygments_lexer": "ipython3",
   "version": "3.6.2"
  }
 },
 "nbformat": 4,
 "nbformat_minor": 1
}
