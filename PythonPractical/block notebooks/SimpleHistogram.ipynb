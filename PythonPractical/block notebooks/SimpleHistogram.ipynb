{
 "cells": [
  {
   "cell_type": "markdown",
   "metadata": {},
   "source": [
    "# Simple histogram"
   ]
  },
  {
   "cell_type": "markdown",
   "metadata": {},
   "source": [
    "### Create a histogram of a 1D array of float values"
   ]
  },
  {
   "cell_type": "markdown",
   "metadata": {},
   "source": [
    "First, import necessary packages. numpy for handling arrays and pyplot from matplotlib for making the histogram."
   ]
  },
  {
   "cell_type": "code",
   "execution_count": 2,
   "metadata": {},
   "outputs": [],
   "source": [
    "import numpy as np \n",
    "import matplotlib.pyplot as plt"
   ]
  },
  {
   "cell_type": "markdown",
   "metadata": {},
   "source": [
    "We will generate some random data to plot in the histogram: a normal distribution with mean 10.0 and SD 3.0 (for more info see the RandomValues block). 2000 values in total. The first 10 values are displayed as an example."
   ]
  },
  {
   "cell_type": "code",
   "execution_count": 3,
   "metadata": {},
   "outputs": [
    {
     "name": "stdout",
     "output_type": "stream",
     "text": [
      "[ 12.57729819   8.88029393   3.74442094  10.00912874   7.8277462\n",
      "  10.60725057   8.70439254   5.05313199   7.77661267   6.4282516 ]\n"
     ]
    }
   ],
   "source": [
    "rng = np.random.RandomState(727)  # deterministic random data\n",
    "array = rng.normal(loc=10.0, scale = 3.0, size=2000)\n",
    "print(array[0:10])"
   ]
  },
  {
   "cell_type": "markdown",
   "metadata": {},
   "source": [
    "Create a histogram using the given data. \n",
    "\n",
    "The inputs are\n",
    "- \"array\", the 1D array we created above\n",
    "- \"bins\", the number of bins (aka buckets) into which the data are divided. The bin size is automatically chosen in this example (bins='auto'), but you could manually select the number of bins (any positive integer).\n",
    "- \"color\", the colour of the histogram bars (note American English spelling of colour). I've chosen a nice shade of blue.\n",
    "- \"ec\", edge colour, colour of the edge around the histogram bars\n",
    "- \"lw\", linewidth, thickness of the edge around the histogram bars\n",
    "   \n",
    "\n",
    "\n",
    "More info on the hist function here: https://matplotlib.org/api/_as_gen/matplotlib.pyplot.hist.html"
   ]
  },
  {
   "cell_type": "code",
   "execution_count": 4,
   "metadata": {},
   "outputs": [
    {
     "data": {
      "image/png": "[encoded data removed]",
      "text/plain": [
       "<matplotlib.figure.Figure at 0x15482416400>"
      ]
     },
     "metadata": {
      "needs_background": "light"
     },
     "output_type": "display_data"
    }
   ],
   "source": [
    "n, bins, patches = plt.hist(array, bins='auto', color = \"red\", ec=\"black\", lw=2)\n",
    "plt.show()"
   ]
  },
  {
   "cell_type": "markdown",
   "metadata": {},
   "source": [
    "The outputs are\n",
    "- the histogram itself (the plt.hist object, not an explicit output)\n",
    "- \"n\", the number of counts for each bin (a 1D array of values which add up to 2000)\n",
    "- \"bins\", the number of bins\n",
    "- The \"patches\" output requires a little more explanation. The plt module creates the figure of the histogram by making a blank 2D plot and then adding rectangular \"patches\", one for each bin of the histogram. The \"patches\" output is just the set of these rectangles. You will probably never need to worry about this, but I thought you'd like to know anyway.\n"
   ]
  },
  {
   "cell_type": "markdown",
   "metadata": {},
   "source": [
    "The plot displays a histogram matching the normal distribution we expected.\n",
    "\n",
    "## Things to play with:\n",
    "### Basic\n",
    "- change the random number seed value to get a different random distribution.\n",
    "- change the parameters of the data distribution (mean and standard deviation)\n",
    "- change the type of distribution (something other than normal)\n",
    "- check that the total number of counts adds up to 2000 (using the array \"n\")\n",
    "- change the number of bins\n",
    "\n",
    "### Advanced (requires additional research)\n",
    "- plot two distributions on the same histogram (array1, array2).\n",
    "- manually choose the axis limits (e.g. choose x axis from 0.0 to 20.0)\n",
    "- changing axes font size and type"
   ]
  },
  {
   "cell_type": "code",
   "execution_count": null,
   "metadata": {},
   "outputs": [],
   "source": []
  }
 ],
 "metadata": {
  "kernelspec": {
   "display_name": "Python 3",
   "language": "python",
   "name": "python3"
  },
  "language_info": {
   "codemirror_mode": {
    "name": "ipython",
    "version": 3
   },
   "file_extension": ".py",
   "mimetype": "text/x-python",
   "name": "python",
   "nbconvert_exporter": "python",
   "pygments_lexer": "ipython3",
   "version": "3.6.2"
  }
 },
 "nbformat": 4,
 "nbformat_minor": 2
}
