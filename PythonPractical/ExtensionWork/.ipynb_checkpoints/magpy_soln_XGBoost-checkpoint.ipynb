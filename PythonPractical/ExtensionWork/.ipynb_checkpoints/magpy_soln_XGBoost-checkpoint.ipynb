{
 "cells": [
  {
   "cell_type": "markdown",
   "metadata": {},
   "source": [
    "## Predicting bandgaps using machine learning methods\n",
    "\n",
    "The following code demonstrates two ML methods:\n",
    "- A classifier. The output of a classifier is a discrete set of outputs. We will use it to predict whether a given material is a conductor (bandgap=0) or not.\n",
    "- XGBoost. A random forest technique\n"
   ]
  },
  {
   "cell_type": "code",
   "execution_count": 21,
   "metadata": {},
   "outputs": [],
   "source": [
    "# import the relevant parts of magpy\n",
    "from magpy import core as c\n",
    "from magpy import parse as p\n",
    "# import general useful packages\n",
    "import json\n",
    "import pandas as pd \n",
    "import numpy as np\n",
    "import matplotlib.pyplot as plt \n",
    "# # import functions from scikit-learn\n",
    "from sklearn.preprocessing import StandardScaler\n",
    "from sklearn.model_selection import train_test_split\n",
    "from sklearn.metrics import r2_score, roc_curve, auc, precision_recall_fscore_support, mean_squared_error\n",
    "from sklearn.svm import SVC\n",
    "# import xgboost package\n",
    "import xgboost as xgb"
   ]
  },
  {
   "cell_type": "markdown",
   "metadata": {},
   "source": [
    "The bandgap training data contains some materials several times with different bandgap values. For example Ag2GeSe3 is listed with bandgaps of 0.90 and 0.91eV. To account for these duplicates, we sort by composition and take the average bandgap value between the entries."
   ]
  },
  {
   "cell_type": "code",
   "execution_count": 23,
   "metadata": {},
   "outputs": [],
   "source": [
    "# PARAMETERS\n",
    "# path to the chosen embedding file (representation of atomic data in normalised vector form)\n",
    "embed_f = r\".\\magpy_data\\cgcnn_embedding.json\"\n",
    "\n",
    "# get the material bandgap training data. import as pandas dataframe\n",
    "mat_f = r\".\\magpy_data\\bandgap_example.csv\"\n",
    "mat_df = pd.read_csv(mat_f)\n",
    "\n",
    "# remove duplicate values\n",
    "mat_df = mat_df.groupby('composition',as_index=False).mean()\n",
    "\n",
    "# get material names as a list of strings\n",
    "materials = mat_df['composition'].apply(''.join)\n",
    "# get bandgaps as a list of floats\n",
    "bandgaps = list(mat_df[\"Eg (eV)\"])\n",
    "\n",
    "# FEATURE EXTRACTION\n",
    "# get features for each material based on the weighted mean and std of the atomic values\n",
    "# weights are simply stoichiometric weightings (see magpy core.py for more info)\n",
    "mat_features = c.descriptors(materials, embed_f, operations=[\"wmean\",\"wstd\"])"
   ]
  },
  {
   "cell_type": "code",
   "execution_count": 30,
   "metadata": {},
   "outputs": [
    {
     "name": "stdout",
     "output_type": "stream",
     "text": [
      "198 28 180 1\n"
     ]
    }
   ],
   "source": [
    "# CLASSIFIER MODEL TRAINING\n",
    "# classifier to identify zero-bandgap materials (conductors)\n",
    "# we will use this for the test data, but for training we already know which materials have nonzero bandgap\n",
    "\n",
    "# make a conductor flag - 1 if bandgap is zero (i.e. a conductor), 0 if non zero\n",
    "cond_flag = [1  if bandgaps[x] == 0 else 0 for x in range(len(bandgaps))]\n",
    "\n",
    "# Split data into training and test sets (80:20)\n",
    "X_train_clf, X_test_clf, y_train_clf, y_test_clf = train_test_split(mat_features,cond_flag, test_size=0.2)\n",
    "\n",
    "# # Scale the input features to improve model fitting\n",
    "scaler = StandardScaler().fit(X_train_clf)\n",
    "X_train_clf = scaler.transform(X_train_clf)\n",
    "\n",
    "# Apply the classifier (clf) to the training data\n",
    "clf = SVC(probability=True, gamma='scale').fit(X_train_clf, y_train_clf)\n",
    "\n",
    "# Make predictions on the test set\n",
    "y_pred_clf = clf.predict(X_test_clf)\n",
    "\n",
    "# Compare the predictions to the actual values for the training set\n",
    "# calculate root mean square error (RMSE). Ideally as low as possible\n",
    "mean_squared_error(y_test_clf, y_pred_clf)\n",
    "\n",
    "# Check number of true negative and positive, false neg and pos\n",
    "y_delta_clf = y_pred_clf - y_test_clf\n",
    "truneg = sum(1 for j in range(len(y_delta_clf)) if y_delta_clf[j]==0 and y_pred_clf[j] ==0 )\n",
    "trupos = sum(1 for j in range(len(y_delta_clf)) if y_delta_clf[j]==0 and y_pred_clf[j] ==1 )\n",
    "falneg = sum(1 for j in range(len(y_delta_clf)) if y_delta_clf[j]==-1 )\n",
    "falpos = sum(1 for j in range(len(y_delta_clf)) if y_delta_clf[j]==+1 )\n",
    "# ideally (A,B,0,0)\n",
    "print(truneg,trupos,falneg,falpos)"
   ]
  },
  {
   "cell_type": "markdown",
   "metadata": {},
   "source": [
    "## Model 2 - XGBoost Random Forest\n",
    "Prediction of bandgap from material features using XGBoost\n",
    "\n",
    "We will try only using the material with non-zero bandgap, as the zero values create \"noise\"."
   ]
  },
  {
   "cell_type": "code",
   "execution_count": 43,
   "metadata": {},
   "outputs": [
    {
     "name": "stdout",
     "output_type": "stream",
     "text": [
      "[0]\ttrain-rmse-rmse:1.64461\teval-rmse-rmse:1.7591\n",
      "[1]\ttrain-rmse-rmse:1.2613\teval-rmse-rmse:1.40691\n",
      "[2]\ttrain-rmse-rmse:0.996989\teval-rmse-rmse:1.1557\n",
      "[3]\ttrain-rmse-rmse:0.818343\teval-rmse-rmse:0.993674\n",
      "[4]\ttrain-rmse-rmse:0.701892\teval-rmse-rmse:0.896889\n",
      "[5]\ttrain-rmse-rmse:0.62306\teval-rmse-rmse:0.826238\n",
      "[6]\ttrain-rmse-rmse:0.570662\teval-rmse-rmse:0.779862\n",
      "[7]\ttrain-rmse-rmse:0.534613\teval-rmse-rmse:0.744262\n",
      "[8]\ttrain-rmse-rmse:0.499484\teval-rmse-rmse:0.705465\n",
      "[9]\ttrain-rmse-rmse:0.480253\teval-rmse-rmse:0.690593\n",
      "[10]\ttrain-rmse-rmse:0.46409\teval-rmse-rmse:0.675638\n",
      "[11]\ttrain-rmse-rmse:0.447989\teval-rmse-rmse:0.67034\n",
      "[12]\ttrain-rmse-rmse:0.441651\teval-rmse-rmse:0.664455\n",
      "[13]\ttrain-rmse-rmse:0.432645\teval-rmse-rmse:0.657867\n",
      "[14]\ttrain-rmse-rmse:0.425988\teval-rmse-rmse:0.656143\n",
      "[15]\ttrain-rmse-rmse:0.425937\teval-rmse-rmse:0.655838\n",
      "[16]\ttrain-rmse-rmse:0.425913\teval-rmse-rmse:0.655631\n",
      "[17]\ttrain-rmse-rmse:0.4259\teval-rmse-rmse:0.655489\n",
      "[18]\ttrain-rmse-rmse:0.425894\teval-rmse-rmse:0.655392\n",
      "[19]\ttrain-rmse-rmse:0.425892\teval-rmse-rmse:0.655324\n",
      "[20]\ttrain-rmse-rmse:0.42589\teval-rmse-rmse:0.655277\n",
      "[21]\ttrain-rmse-rmse:0.425889\teval-rmse-rmse:0.655245\n",
      "[22]\ttrain-rmse-rmse:0.425889\teval-rmse-rmse:0.655222\n",
      "[23]\ttrain-rmse-rmse:0.425889\teval-rmse-rmse:0.655206\n",
      "[24]\ttrain-rmse-rmse:0.425889\teval-rmse-rmse:0.655195\n",
      "[25]\ttrain-rmse-rmse:0.425889\teval-rmse-rmse:0.655187\n",
      "[26]\ttrain-rmse-rmse:0.425889\teval-rmse-rmse:0.655182\n",
      "[27]\ttrain-rmse-rmse:0.425889\teval-rmse-rmse:0.655178\n",
      "[28]\ttrain-rmse-rmse:0.425889\teval-rmse-rmse:0.655176\n",
      "[29]\ttrain-rmse-rmse:0.425889\teval-rmse-rmse:0.655174\n",
      "[30]\ttrain-rmse-rmse:0.425889\teval-rmse-rmse:0.655172\n",
      "[31]\ttrain-rmse-rmse:0.425889\teval-rmse-rmse:0.655172\n",
      "[32]\ttrain-rmse-rmse:0.425889\teval-rmse-rmse:0.655171\n",
      "[33]\ttrain-rmse-rmse:0.425889\teval-rmse-rmse:0.65517\n",
      "[34]\ttrain-rmse-rmse:0.425889\teval-rmse-rmse:0.65517\n",
      "[35]\ttrain-rmse-rmse:0.425889\teval-rmse-rmse:0.65517\n",
      "[36]\ttrain-rmse-rmse:0.425889\teval-rmse-rmse:0.65517\n",
      "[37]\ttrain-rmse-rmse:0.425889\teval-rmse-rmse:0.65517\n",
      "[38]\ttrain-rmse-rmse:0.425889\teval-rmse-rmse:0.655169\n",
      "[39]\ttrain-rmse-rmse:0.425889\teval-rmse-rmse:0.655169\n",
      "[40]\ttrain-rmse-rmse:0.425889\teval-rmse-rmse:0.655169\n",
      "[41]\ttrain-rmse-rmse:0.425889\teval-rmse-rmse:0.655169\n",
      "[42]\ttrain-rmse-rmse:0.425889\teval-rmse-rmse:0.655169\n",
      "[43]\ttrain-rmse-rmse:0.425889\teval-rmse-rmse:0.655169\n",
      "[44]\ttrain-rmse-rmse:0.425889\teval-rmse-rmse:0.655169\n",
      "[45]\ttrain-rmse-rmse:0.425889\teval-rmse-rmse:0.655169\n",
      "[46]\ttrain-rmse-rmse:0.425889\teval-rmse-rmse:0.655169\n",
      "[47]\ttrain-rmse-rmse:0.425889\teval-rmse-rmse:0.655169\n",
      "[48]\ttrain-rmse-rmse:0.425889\teval-rmse-rmse:0.655169\n",
      "[49]\ttrain-rmse-rmse:0.425889\teval-rmse-rmse:0.655169\n",
      "[50]\ttrain-rmse-rmse:0.425889\teval-rmse-rmse:0.655169\n",
      "[51]\ttrain-rmse-rmse:0.425889\teval-rmse-rmse:0.655169\n",
      "[52]\ttrain-rmse-rmse:0.425889\teval-rmse-rmse:0.655169\n",
      "[53]\ttrain-rmse-rmse:0.425889\teval-rmse-rmse:0.655169\n",
      "[54]\ttrain-rmse-rmse:0.425889\teval-rmse-rmse:0.655169\n",
      "[55]\ttrain-rmse-rmse:0.425889\teval-rmse-rmse:0.655169\n",
      "[56]\ttrain-rmse-rmse:0.425889\teval-rmse-rmse:0.655169\n",
      "[57]\ttrain-rmse-rmse:0.425889\teval-rmse-rmse:0.655169\n",
      "[58]\ttrain-rmse-rmse:0.425889\teval-rmse-rmse:0.655169\n",
      "[59]\ttrain-rmse-rmse:0.425889\teval-rmse-rmse:0.655169\n",
      "[60]\ttrain-rmse-rmse:0.425889\teval-rmse-rmse:0.655169\n",
      "[61]\ttrain-rmse-rmse:0.425889\teval-rmse-rmse:0.655169\n",
      "[62]\ttrain-rmse-rmse:0.425889\teval-rmse-rmse:0.655169\n",
      "[63]\ttrain-rmse-rmse:0.425889\teval-rmse-rmse:0.655169\n",
      "[64]\ttrain-rmse-rmse:0.425889\teval-rmse-rmse:0.655169\n",
      "[65]\ttrain-rmse-rmse:0.425889\teval-rmse-rmse:0.655169\n",
      "[66]\ttrain-rmse-rmse:0.425889\teval-rmse-rmse:0.655169\n",
      "[67]\ttrain-rmse-rmse:0.425889\teval-rmse-rmse:0.655169\n",
      "[68]\ttrain-rmse-rmse:0.425889\teval-rmse-rmse:0.655169\n",
      "[69]\ttrain-rmse-rmse:0.425889\teval-rmse-rmse:0.655169\n",
      "[70]\ttrain-rmse-rmse:0.425889\teval-rmse-rmse:0.655169\n",
      "[71]\ttrain-rmse-rmse:0.425889\teval-rmse-rmse:0.655169\n",
      "[72]\ttrain-rmse-rmse:0.425889\teval-rmse-rmse:0.655169\n",
      "[73]\ttrain-rmse-rmse:0.425889\teval-rmse-rmse:0.655169\n",
      "[74]\ttrain-rmse-rmse:0.425889\teval-rmse-rmse:0.655169\n",
      "[75]\ttrain-rmse-rmse:0.425889\teval-rmse-rmse:0.655169\n",
      "[76]\ttrain-rmse-rmse:0.425889\teval-rmse-rmse:0.655169\n",
      "[77]\ttrain-rmse-rmse:0.425889\teval-rmse-rmse:0.655169\n",
      "[78]\ttrain-rmse-rmse:0.425889\teval-rmse-rmse:0.655169\n",
      "[79]\ttrain-rmse-rmse:0.425889\teval-rmse-rmse:0.655169\n",
      "[80]\ttrain-rmse-rmse:0.425889\teval-rmse-rmse:0.655169\n",
      "[81]\ttrain-rmse-rmse:0.425889\teval-rmse-rmse:0.655169\n",
      "[82]\ttrain-rmse-rmse:0.425889\teval-rmse-rmse:0.655169\n",
      "[83]\ttrain-rmse-rmse:0.425889\teval-rmse-rmse:0.655169\n",
      "[84]\ttrain-rmse-rmse:0.425889\teval-rmse-rmse:0.655169\n",
      "[85]\ttrain-rmse-rmse:0.425889\teval-rmse-rmse:0.655169\n",
      "[86]\ttrain-rmse-rmse:0.425889\teval-rmse-rmse:0.655169\n",
      "[87]\ttrain-rmse-rmse:0.425889\teval-rmse-rmse:0.655169\n",
      "[88]\ttrain-rmse-rmse:0.425889\teval-rmse-rmse:0.655169\n",
      "[89]\ttrain-rmse-rmse:0.425889\teval-rmse-rmse:0.655169\n",
      "[90]\ttrain-rmse-rmse:0.425889\teval-rmse-rmse:0.655169\n",
      "[91]\ttrain-rmse-rmse:0.425889\teval-rmse-rmse:0.655169\n",
      "[92]\ttrain-rmse-rmse:0.425889\teval-rmse-rmse:0.655169\n",
      "[93]\ttrain-rmse-rmse:0.425889\teval-rmse-rmse:0.655169\n",
      "[94]\ttrain-rmse-rmse:0.425889\teval-rmse-rmse:0.655169\n",
      "[95]\ttrain-rmse-rmse:0.425889\teval-rmse-rmse:0.655169\n",
      "[96]\ttrain-rmse-rmse:0.425889\teval-rmse-rmse:0.655169\n",
      "[97]\ttrain-rmse-rmse:0.425889\teval-rmse-rmse:0.655169\n",
      "[98]\ttrain-rmse-rmse:0.425889\teval-rmse-rmse:0.655169\n",
      "[99]\ttrain-rmse-rmse:0.425889\teval-rmse-rmse:0.655169\n"
     ]
    },
    {
     "name": "stderr",
     "output_type": "stream",
     "text": [
      "c:\\users\\tgp27\\appdata\\local\\programs\\python\\python36\\lib\\site-packages\\matplotlib\\cbook\\deprecation.py:106: MatplotlibDeprecationWarning: Adding an axes using the same arguments as a previous axes currently reuses the earlier instance.  In a future version, a new instance will always be created and returned.  Meanwhile, this warning can be suppressed, and the future behavior ensured, by passing a unique label to each axes instance.\n",
      "  warnings.warn(message, mplDeprecation, stacklevel=1)\n"
     ]
    },
    {
     "data": {
      "image/png": "[encoded data removed]",
      "text/plain": [
       "<matplotlib.figure.Figure at 0x1ec96fc0128>"
      ]
     },
     "metadata": {
      "needs_background": "light"
     },
     "output_type": "display_data"
    }
   ],
   "source": [
    "#MODEL 2 - predict bandgap from features\n",
    "\n",
    "# only select data with nonzero bandgap\n",
    "bandgap_filt = [bandgap for bandgap in bandgaps if bandgap != 0 ]\n",
    "mat_fea_filt = [fea for bg,fea in zip(bandgaps,mat_features) if  bg != 0  ]\n",
    "\n",
    "# Split data into training and test sets (80:20)\n",
    "X_train, X_test, y_train, y_test = train_test_split(mat_fea_filt,bandgap_filt, test_size=0.2)\n",
    "\n",
    "# convert to numpy arrays\n",
    "X_train = np.array(X_train)\n",
    "y_train = np.array(y_train)\n",
    "dtrain = np.column_stack((X_train,y_train))\n",
    "\n",
    "X_test = np.array(X_test)\n",
    "y_test = np.array(y_test)\n",
    "dtest = np.column_stack((X_test,y_test))\n",
    "\n",
    "# read in data\n",
    "dtrain = xgb.DMatrix(X_train,label=y_train)\n",
    "dtest = xgb.DMatrix(X_test,label=y_test)\n",
    "# specify parameters  - search xgboost online to find out what these mean.\n",
    "param = {'max_depth':6, 'eta':0.3, 'gamma':2, 'silent':1 }\n",
    "num_round = 100\n",
    "\n",
    "# track progress\n",
    "progress = dict()\n",
    "watchlist  = [(dtrain,'train-rmse'), (dtest, 'eval-rmse')]\n",
    "\n",
    "bst = xgb.train(param, dtrain, num_round, watchlist, evals_result=progress)\n",
    "# make prediction\n",
    "preds = bst.predict(dtest)\n",
    "\n",
    "# print(progress)\n",
    "# plot real test solutions versus training data\n",
    "plt.scatter(y_test,preds)\n",
    "plt.axes().set_aspect('equal', 'box')\n",
    "plt.show()"
   ]
  },
  {
   "cell_type": "code",
   "execution_count": null,
   "metadata": {},
   "outputs": [],
   "source": []
  }
 ],
 "metadata": {
  "kernelspec": {
   "display_name": "Python 3",
   "language": "python",
   "name": "python3"
  },
  "language_info": {
   "codemirror_mode": {
    "name": "ipython",
    "version": 3
   },
   "file_extension": ".py",
   "mimetype": "text/x-python",
   "name": "python",
   "nbconvert_exporter": "python",
   "pygments_lexer": "ipython3",
   "version": "3.6.2"
  }
 },
 "nbformat": 4,
 "nbformat_minor": 2
}
