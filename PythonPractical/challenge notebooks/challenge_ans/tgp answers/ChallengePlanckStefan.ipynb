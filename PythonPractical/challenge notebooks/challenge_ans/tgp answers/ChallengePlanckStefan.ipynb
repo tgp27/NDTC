{
 "cells": [
  {
   "cell_type": "code",
   "execution_count": 15,
   "metadata": {},
   "outputs": [
    {
     "data": {
      "image/png": "[encoded data removed]",
      "text/plain": [
       "<matplotlib.figure.Figure at 0x2346a2db390>"
      ]
     },
     "metadata": {
      "needs_background": "light"
     },
     "output_type": "display_data"
    },
    {
     "name": "stdout",
     "output_type": "stream",
     "text": [
      "4.05381817591 -18.3023179415\n",
      "1.12565242677e-08\n",
      "5.56841873738e-08\n"
     ]
    }
   ],
   "source": [
    "import os\n",
    "import numpy as np\n",
    "import matplotlib.pyplot as plt\n",
    "\n",
    "raw_dir = '.\\challenge_raw'\n",
    "# file = 'rawPlanck_2000.txt'\n",
    "# file_path = os.path.join(raw_dir,file)\n",
    "\n",
    "# test_data = np.loadtxt(file_path, skiprows=2, delimiter='\\t')\n",
    "# wv = test_data[:,0]\n",
    "# B = test_data[:,1]\n",
    "# plt.plot(wv,B)\n",
    "# plt.show()\n",
    "\n",
    "\n",
    "str1 = 'rawPlanck_'\n",
    "str2 = '.txt'\n",
    "\n",
    "tmp = np.linspace(2000,8000,13)\n",
    "\n",
    "integ_arr = np.array([])\n",
    "for T in tmp:\n",
    "    file_str = ''.join([str1,str(int(T)),str2])\n",
    "    file_path = os.path.join(raw_dir,file_str)\n",
    "    \n",
    "    data = np.loadtxt(file_path,skiprows=2, delimiter='\\t')\n",
    "    wv= data[:,0]\n",
    "    B = data[:,1]\n",
    "    # get max value\n",
    "    integ = np.trapz(B,x=wv)\n",
    "    integ_arr = np.append(integ_arr, integ)\n",
    "\n",
    "    \n",
    "\n",
    "\n",
    "\n",
    "plt.plot(np.log(tmp),np.log(integ_arr))\n",
    "plt.show()\n",
    "\n",
    "m,c = np.polyfit(np.log(tmp),np.log(integ_arr),1)\n",
    "print(m,c)\n",
    "print(np.exp(c))\n",
    "\n",
    "sigma_arr = np.log(integ_arr) - 4*np.log(tmp)\n",
    "# print(sigma_arr)\n",
    "sigma = np.mean(sigma_arr)\n",
    "print(np.pi*np.exp(sigma))"
   ]
  },
  {
   "cell_type": "code",
   "execution_count": null,
   "metadata": {},
   "outputs": [],
   "source": []
  },
  {
   "cell_type": "code",
   "execution_count": null,
   "metadata": {},
   "outputs": [],
   "source": []
  }
 ],
 "metadata": {
  "kernelspec": {
   "display_name": "Python 3",
   "language": "python",
   "name": "python3"
  },
  "language_info": {
   "codemirror_mode": {
    "name": "ipython",
    "version": 3
   },
   "file_extension": ".py",
   "mimetype": "text/x-python",
   "name": "python",
   "nbconvert_exporter": "python",
   "pygments_lexer": "ipython3",
   "version": "3.6.2"
  }
 },
 "nbformat": 4,
 "nbformat_minor": 2
}
